{
 "cells": [
  {
   "cell_type": "markdown",
   "metadata": {
    "toc": true
   },
   "source": [
    "<h1>Table of Contents<span class=\"tocSkip\"></span></h1>\n",
    "<div class=\"toc\"><ul class=\"toc-item\"><li><span><a href=\"#Introducción.-¿Qué-vende-un-coche?\" data-toc-modified-id=\"Introducción.-¿Qué-vende-un-coche?-4\">Introducción. ¿Qué vende un coche?</a></span><ul class=\"toc-item\"><li><span><a href=\"#Hipótesis\" data-toc-modified-id=\"Hipótesis-4.1\">Hipótesis</a></span></li><li><span><a href=\"#Inicialización\" data-toc-modified-id=\"Inicialización-4.2\">Inicialización</a></span><ul class=\"toc-item\"><li><span><a href=\"#Cargar-datos\" data-toc-modified-id=\"Cargar-datos-4.2.1\">Cargar datos</a></span></li><li><span><a href=\"#Explorar-datos-iniciales\" data-toc-modified-id=\"Explorar-datos-iniciales-4.2.2\">Explorar datos iniciales</a></span></li><li><span><a href=\"#Conclusiones-y-siguientes-pasos\" data-toc-modified-id=\"Conclusiones-y-siguientes-pasos-4.2.3\">Conclusiones y siguientes pasos</a></span></li></ul></li><li><span><a href=\"#Tratar-los-valores-ausentes-(si-hay)\" data-toc-modified-id=\"Tratar-los-valores-ausentes-(si-hay)-4.3\">Tratar los valores ausentes (si hay)</a></span><ul class=\"toc-item\"><li><span><a href=\"#Ausentes-en-is_4wd\" data-toc-modified-id=\"Ausentes-en-is_4wd-4.3.1\">Ausentes en <code>is_4wd</code></a></span></li><li><span><a href=\"#Tasa-de-valores-ausentes\" data-toc-modified-id=\"Tasa-de-valores-ausentes-4.3.2\">Tasa de valores ausentes</a></span></li><li><span><a href=\"#Corregir-valores-ausentes\" data-toc-modified-id=\"Corregir-valores-ausentes-4.3.3\">Corregir valores ausentes</a></span><ul class=\"toc-item\"><li><span><a href=\"#Valores-ausentes-en-paint_color\" data-toc-modified-id=\"Valores-ausentes-en-paint_color-4.3.3.1\">Valores ausentes en <code>paint_color</code></a></span></li><li><span><a href=\"#Valores-ausentes-en-año-del-modelo-y-no.-de-cilindros\" data-toc-modified-id=\"Valores-ausentes-en-año-del-modelo-y-no.-de-cilindros-4.3.3.2\">Valores ausentes en año del modelo y no. de cilindros</a></span></li><li><span><a href=\"#Valores-ausentes-en-millaje\" data-toc-modified-id=\"Valores-ausentes-en-millaje-4.3.3.3\">Valores ausentes en millaje</a></span></li></ul></li><li><span><a href=\"#Comprobamos-los-datos\" data-toc-modified-id=\"Comprobamos-los-datos-4.3.4\">Comprobamos los datos</a></span></li></ul></li><li><span><a href=\"#Corregir-los-tipos-de-datos\" data-toc-modified-id=\"Corregir-los-tipos-de-datos-4.4\">Corregir los tipos de datos</a></span><ul class=\"toc-item\"><li><span><a href=\"#Conclusiones-y-siguientes-pasos\" data-toc-modified-id=\"Conclusiones-y-siguientes-pasos-4.4.1\">Conclusiones y siguientes pasos</a></span></li></ul></li><li><span><a href=\"#Enriquecer-datos\" data-toc-modified-id=\"Enriquecer-datos-4.5\">Enriquecer datos</a></span></li><li><span><a href=\"#Comprobar-datos-limpios\" data-toc-modified-id=\"Comprobar-datos-limpios-4.6\">Comprobar datos limpios</a></span></li><li><span><a href=\"#Estudiar-parámetros-principales\" data-toc-modified-id=\"Estudiar-parámetros-principales-4.7\">Estudiar parámetros principales</a></span></li><li><span><a href=\"#Estudiar-y-tratar-valores-atípicos\" data-toc-modified-id=\"Estudiar-y-tratar-valores-atípicos-4.8\">Estudiar y tratar valores atípicos</a></span></li><li><span><a href=\"#Estudiar-parámetros-principales-sin-valores-atípicos\" data-toc-modified-id=\"Estudiar-parámetros-principales-sin-valores-atípicos-4.9\">Estudiar parámetros principales sin valores atípicos</a></span></li><li><span><a href=\"#Periodo-de-colocación-de-los-anuncios\" data-toc-modified-id=\"Periodo-de-colocación-de-los-anuncios-4.10\">Periodo de colocación de los anuncios</a></span></li><li><span><a href=\"#Precio-promedio-por-cada-tipo-de-vehículo\" data-toc-modified-id=\"Precio-promedio-por-cada-tipo-de-vehículo-4.11\">Precio promedio por cada tipo de vehículo</a></span></li><li><span><a href=\"#Factores-de-precio\" data-toc-modified-id=\"Factores-de-precio-4.12\">Factores de precio</a></span><ul class=\"toc-item\"><li><span><a href=\"#Vehículos-SUV\" data-toc-modified-id=\"Vehículos-SUV-4.12.1\">Vehículos SUV</a></span></li><li><span><a href=\"#Vehículos-sedán\" data-toc-modified-id=\"Vehículos-sedán-4.12.2\">Vehículos sedán</a></span></li></ul></li><li><span><a href=\"#Conclusión-general\" data-toc-modified-id=\"Conclusión-general-4.13\">Conclusión general</a></span></li></ul></li></ul></div>"
   ]
  },
  {
   "cell_type": "markdown",
   "metadata": {},
   "source": [
    "# Introducción. ¿Qué vende un coche?\n",
    "\n",
    "Eres un analista en Crankshaft List. Cientos de anuncios gratuitos de vehículos se publican en tu sitio web cada día. Necesitas estudiar los datos recopilados durante los últimos años y determinar qué factores influyen en el precio de un vehículo."
   ]
  },
  {
   "cell_type": "markdown",
   "metadata": {},
   "source": [
    "## Hipótesis\n",
    "\n",
    "El precio de un vehículo se determina por la edad, el millaje, el tipo de transmisión, el color y la condición. De esos factores enumeramos como puede afectar:\n",
    "\n",
    " - Los vehículos más nuevos serán más caros.\n",
    " - Los vehículos con menos promedio de millaje anual serán más caros.\n",
    " - El valor se devalúa conforme peor sea la condición del vehículo.\n",
    " - Los colores llamativos serán más caros, ya que inspiran deportividad, mientras que los más neutros se mantendrán en la media.\n",
    " - Los vehículos automáticos serán más caros debido a la complejidad en la transmisión.\n"
   ]
  },
  {
   "cell_type": "markdown",
   "metadata": {},
   "source": [
    "## Inicialización"
   ]
  },
  {
   "cell_type": "markdown",
   "metadata": {},
   "source": [
    "Empezamos por cargar las librerías que necesitaremos durante el proyecto, como son pandas para trabajar con ocnjuntos de datos y matplotlib para obtener gráficos con más detalle sobre nuestro análisis.\n"
   ]
  },
  {
   "cell_type": "code",
   "execution_count": 1,
   "metadata": {},
   "outputs": [],
   "source": [
    "# Cargar todas las librerías\n",
    "import pandas as pd\n",
    "import matplotlib.pyplot as plt\n"
   ]
  },
  {
   "cell_type": "markdown",
   "metadata": {},
   "source": [
    "### Cargar datos"
   ]
  },
  {
   "cell_type": "markdown",
   "metadata": {},
   "source": [
    "Cargamos la información general del DataFrame para analizar los campos que tiene nuestro conjunto de datos y obtener más información acerca del tipo de datos que tenemos en cada campo. \n"
   ]
  },
  {
   "cell_type": "code",
   "execution_count": 2,
   "metadata": {},
   "outputs": [],
   "source": [
    "# Carga el archivo de datos en un DataFrame\n",
    "\n",
    "try:\n",
    "    data_raw = pd.read_csv('vehicles_us.csv')\n",
    "except:\n",
    "    data_raw = pd.read_csv('/datasets/vehicles_us.csv')"
   ]
  },
  {
   "cell_type": "markdown",
   "metadata": {},
   "source": [
    "### Explorar datos iniciales"
   ]
  },
  {
   "cell_type": "markdown",
   "metadata": {},
   "source": [
    "El dataset contiene los siguientes campos:\n",
    "- `price`\n",
    "- `model_year`\n",
    "- `model`\n",
    "- `condition`\n",
    "- `cylinders`\n",
    "- `fuel` — gasolina, diesel, etc.\n",
    "- `odometer` — el millaje del vehículo cuando el anuncio fue publicado\n",
    "- `transmission`\n",
    "- `paint_color`\n",
    "- `is_4wd` — si el vehículo tiene tracción a las 4 ruedas (tipo Booleano)\n",
    "- `date_posted` — la fecha en la que el anuncio fue publicado\n",
    "- `days_listed` — desde la publicación hasta que se elimina\n",
    "\n"
   ]
  },
  {
   "cell_type": "code",
   "execution_count": 3,
   "metadata": {},
   "outputs": [
    {
     "name": "stdout",
     "output_type": "stream",
     "text": [
      "<class 'pandas.core.frame.DataFrame'>\n",
      "RangeIndex: 51525 entries, 0 to 51524\n",
      "Data columns (total 13 columns):\n",
      " #   Column        Non-Null Count  Dtype  \n",
      "---  ------        --------------  -----  \n",
      " 0   price         51525 non-null  int64  \n",
      " 1   model_year    47906 non-null  float64\n",
      " 2   model         51525 non-null  object \n",
      " 3   condition     51525 non-null  object \n",
      " 4   cylinders     46265 non-null  float64\n",
      " 5   fuel          51525 non-null  object \n",
      " 6   odometer      43633 non-null  float64\n",
      " 7   transmission  51525 non-null  object \n",
      " 8   type          51525 non-null  object \n",
      " 9   paint_color   42258 non-null  object \n",
      " 10  is_4wd        25572 non-null  float64\n",
      " 11  date_posted   51525 non-null  object \n",
      " 12  days_listed   51525 non-null  int64  \n",
      "dtypes: float64(4), int64(2), object(7)\n",
      "memory usage: 5.1+ MB\n"
     ]
    }
   ],
   "source": [
    "# imprime la información general/resumida sobre el DataFrame\n",
    "data_raw.info()\n"
   ]
  },
  {
   "cell_type": "code",
   "execution_count": 4,
   "metadata": {},
   "outputs": [
    {
     "data": {
      "text/html": [
       "<div>\n",
       "<style scoped>\n",
       "    .dataframe tbody tr th:only-of-type {\n",
       "        vertical-align: middle;\n",
       "    }\n",
       "\n",
       "    .dataframe tbody tr th {\n",
       "        vertical-align: top;\n",
       "    }\n",
       "\n",
       "    .dataframe thead th {\n",
       "        text-align: right;\n",
       "    }\n",
       "</style>\n",
       "<table border=\"1\" class=\"dataframe\">\n",
       "  <thead>\n",
       "    <tr style=\"text-align: right;\">\n",
       "      <th></th>\n",
       "      <th>price</th>\n",
       "      <th>model_year</th>\n",
       "      <th>model</th>\n",
       "      <th>condition</th>\n",
       "      <th>cylinders</th>\n",
       "      <th>fuel</th>\n",
       "      <th>odometer</th>\n",
       "      <th>transmission</th>\n",
       "      <th>type</th>\n",
       "      <th>paint_color</th>\n",
       "      <th>is_4wd</th>\n",
       "      <th>date_posted</th>\n",
       "      <th>days_listed</th>\n",
       "    </tr>\n",
       "  </thead>\n",
       "  <tbody>\n",
       "    <tr>\n",
       "      <th>0</th>\n",
       "      <td>9400</td>\n",
       "      <td>2011.0</td>\n",
       "      <td>bmw x5</td>\n",
       "      <td>good</td>\n",
       "      <td>6.0</td>\n",
       "      <td>gas</td>\n",
       "      <td>145000.0</td>\n",
       "      <td>automatic</td>\n",
       "      <td>SUV</td>\n",
       "      <td>NaN</td>\n",
       "      <td>1.0</td>\n",
       "      <td>2018-06-23</td>\n",
       "      <td>19</td>\n",
       "    </tr>\n",
       "    <tr>\n",
       "      <th>1</th>\n",
       "      <td>25500</td>\n",
       "      <td>NaN</td>\n",
       "      <td>ford f-150</td>\n",
       "      <td>good</td>\n",
       "      <td>6.0</td>\n",
       "      <td>gas</td>\n",
       "      <td>88705.0</td>\n",
       "      <td>automatic</td>\n",
       "      <td>pickup</td>\n",
       "      <td>white</td>\n",
       "      <td>1.0</td>\n",
       "      <td>2018-10-19</td>\n",
       "      <td>50</td>\n",
       "    </tr>\n",
       "    <tr>\n",
       "      <th>2</th>\n",
       "      <td>5500</td>\n",
       "      <td>2013.0</td>\n",
       "      <td>hyundai sonata</td>\n",
       "      <td>like new</td>\n",
       "      <td>4.0</td>\n",
       "      <td>gas</td>\n",
       "      <td>110000.0</td>\n",
       "      <td>automatic</td>\n",
       "      <td>sedan</td>\n",
       "      <td>red</td>\n",
       "      <td>NaN</td>\n",
       "      <td>2019-02-07</td>\n",
       "      <td>79</td>\n",
       "    </tr>\n",
       "    <tr>\n",
       "      <th>3</th>\n",
       "      <td>1500</td>\n",
       "      <td>2003.0</td>\n",
       "      <td>ford f-150</td>\n",
       "      <td>fair</td>\n",
       "      <td>8.0</td>\n",
       "      <td>gas</td>\n",
       "      <td>NaN</td>\n",
       "      <td>automatic</td>\n",
       "      <td>pickup</td>\n",
       "      <td>NaN</td>\n",
       "      <td>NaN</td>\n",
       "      <td>2019-03-22</td>\n",
       "      <td>9</td>\n",
       "    </tr>\n",
       "    <tr>\n",
       "      <th>4</th>\n",
       "      <td>14900</td>\n",
       "      <td>2017.0</td>\n",
       "      <td>chrysler 200</td>\n",
       "      <td>excellent</td>\n",
       "      <td>4.0</td>\n",
       "      <td>gas</td>\n",
       "      <td>80903.0</td>\n",
       "      <td>automatic</td>\n",
       "      <td>sedan</td>\n",
       "      <td>black</td>\n",
       "      <td>NaN</td>\n",
       "      <td>2019-04-02</td>\n",
       "      <td>28</td>\n",
       "    </tr>\n",
       "    <tr>\n",
       "      <th>5</th>\n",
       "      <td>14990</td>\n",
       "      <td>2014.0</td>\n",
       "      <td>chrysler 300</td>\n",
       "      <td>excellent</td>\n",
       "      <td>6.0</td>\n",
       "      <td>gas</td>\n",
       "      <td>57954.0</td>\n",
       "      <td>automatic</td>\n",
       "      <td>sedan</td>\n",
       "      <td>black</td>\n",
       "      <td>1.0</td>\n",
       "      <td>2018-06-20</td>\n",
       "      <td>15</td>\n",
       "    </tr>\n",
       "    <tr>\n",
       "      <th>6</th>\n",
       "      <td>12990</td>\n",
       "      <td>2015.0</td>\n",
       "      <td>toyota camry</td>\n",
       "      <td>excellent</td>\n",
       "      <td>4.0</td>\n",
       "      <td>gas</td>\n",
       "      <td>79212.0</td>\n",
       "      <td>automatic</td>\n",
       "      <td>sedan</td>\n",
       "      <td>white</td>\n",
       "      <td>NaN</td>\n",
       "      <td>2018-12-27</td>\n",
       "      <td>73</td>\n",
       "    </tr>\n",
       "    <tr>\n",
       "      <th>7</th>\n",
       "      <td>15990</td>\n",
       "      <td>2013.0</td>\n",
       "      <td>honda pilot</td>\n",
       "      <td>excellent</td>\n",
       "      <td>6.0</td>\n",
       "      <td>gas</td>\n",
       "      <td>109473.0</td>\n",
       "      <td>automatic</td>\n",
       "      <td>SUV</td>\n",
       "      <td>black</td>\n",
       "      <td>1.0</td>\n",
       "      <td>2019-01-07</td>\n",
       "      <td>68</td>\n",
       "    </tr>\n",
       "    <tr>\n",
       "      <th>8</th>\n",
       "      <td>11500</td>\n",
       "      <td>2012.0</td>\n",
       "      <td>kia sorento</td>\n",
       "      <td>excellent</td>\n",
       "      <td>4.0</td>\n",
       "      <td>gas</td>\n",
       "      <td>104174.0</td>\n",
       "      <td>automatic</td>\n",
       "      <td>SUV</td>\n",
       "      <td>NaN</td>\n",
       "      <td>1.0</td>\n",
       "      <td>2018-07-16</td>\n",
       "      <td>19</td>\n",
       "    </tr>\n",
       "    <tr>\n",
       "      <th>9</th>\n",
       "      <td>9200</td>\n",
       "      <td>2008.0</td>\n",
       "      <td>honda pilot</td>\n",
       "      <td>excellent</td>\n",
       "      <td>NaN</td>\n",
       "      <td>gas</td>\n",
       "      <td>147191.0</td>\n",
       "      <td>automatic</td>\n",
       "      <td>SUV</td>\n",
       "      <td>blue</td>\n",
       "      <td>1.0</td>\n",
       "      <td>2019-02-15</td>\n",
       "      <td>17</td>\n",
       "    </tr>\n",
       "  </tbody>\n",
       "</table>\n",
       "</div>"
      ],
      "text/plain": [
       "   price  model_year           model  condition  cylinders fuel  odometer  \\\n",
       "0   9400      2011.0          bmw x5       good        6.0  gas  145000.0   \n",
       "1  25500         NaN      ford f-150       good        6.0  gas   88705.0   \n",
       "2   5500      2013.0  hyundai sonata   like new        4.0  gas  110000.0   \n",
       "3   1500      2003.0      ford f-150       fair        8.0  gas       NaN   \n",
       "4  14900      2017.0    chrysler 200  excellent        4.0  gas   80903.0   \n",
       "5  14990      2014.0    chrysler 300  excellent        6.0  gas   57954.0   \n",
       "6  12990      2015.0    toyota camry  excellent        4.0  gas   79212.0   \n",
       "7  15990      2013.0     honda pilot  excellent        6.0  gas  109473.0   \n",
       "8  11500      2012.0     kia sorento  excellent        4.0  gas  104174.0   \n",
       "9   9200      2008.0     honda pilot  excellent        NaN  gas  147191.0   \n",
       "\n",
       "  transmission    type paint_color  is_4wd date_posted  days_listed  \n",
       "0    automatic     SUV         NaN     1.0  2018-06-23           19  \n",
       "1    automatic  pickup       white     1.0  2018-10-19           50  \n",
       "2    automatic   sedan         red     NaN  2019-02-07           79  \n",
       "3    automatic  pickup         NaN     NaN  2019-03-22            9  \n",
       "4    automatic   sedan       black     NaN  2019-04-02           28  \n",
       "5    automatic   sedan       black     1.0  2018-06-20           15  \n",
       "6    automatic   sedan       white     NaN  2018-12-27           73  \n",
       "7    automatic     SUV       black     1.0  2019-01-07           68  \n",
       "8    automatic     SUV         NaN     1.0  2018-07-16           19  \n",
       "9    automatic     SUV        blue     1.0  2019-02-15           17  "
      ]
     },
     "execution_count": 4,
     "metadata": {},
     "output_type": "execute_result"
    }
   ],
   "source": [
    "# imprimir una muestra de datos\n",
    "data_raw.head(10)\n"
   ]
  },
  {
   "cell_type": "markdown",
   "metadata": {},
   "source": [
    "A primera vista podemos ver que tenemos datos ausentes en varias columnas como son `model_year`, `cylinders`, `odometer`, `paint_color` y `is_4wd`. También se obseva que hay tipos de datos de los cuales podríamos obtener diccionarios para facilitarnos el análisis, u otros datos de los cuales podemos obtener métricas adicionales.\n",
    "\n",
    "Habría que investigar si exisitiera algún patrón entre los datos ausentes y si la cantidad de datos ausentes pudieran afectar a nuestro análisis o si, en cambio, pudieramos desacernos de ellos, ya que tenemos un conjunto de datos con más de 50000 muestras. Sobre todo hay que investigar más a fondo la columna `is_4wd`, ya que es la que tiene más datos ausentes (más de la mitad). tal vez los valores ausentes quieran decir que no es tracción a las 4 ruedas."
   ]
  },
  {
   "cell_type": "markdown",
   "metadata": {},
   "source": [
    "Algunas de estas columnas tienen un tipo de datos incorrecto, como se puede ver que el año de fabricación del modelo del coche es un tipo de valor en coma flotante o que el campo `is_4wd` también es un valor en coma flotante cuando debería ser un valor booleano. También tenemos la fecha de publicación del anuncio como un tipo objeto, así que lo modificaremos a un formato de fecha."
   ]
  },
  {
   "cell_type": "markdown",
   "metadata": {},
   "source": [
    "### Conclusiones y siguientes pasos\n",
    "\n",
    "**Conclusiones.**\n",
    "\n",
    "Tenemos un conjunto de datos extenso con algunos datos ausentes en campos importantes como el año del modelo del vehículo o el millaje. También tenemos algunos campos con formato erróneo que habría que modificar.\n",
    "\n",
    "Vamos a trabajar en dar formato a los datos y buscar patrones en los datos ausentes para determinar la forma en la que vamos a tratar esos datos. Después agregaremos un diccionario asignando un valor al estado del vehículo, un campo que contenga los años del vehículo a partir del año del modelo y la fecha de publicación; y otro campo en el que calcularemos el millaje por año.\n"
   ]
  },
  {
   "cell_type": "markdown",
   "metadata": {},
   "source": [
    "## Tratar los valores ausentes (si hay)"
   ]
  },
  {
   "cell_type": "markdown",
   "metadata": {},
   "source": [
    "### Ausentes en `is_4wd`\n",
    "\n",
    "Empezaremos por la parte más sencilla, en la que buscaremos un patrón para los valores ausentes en `is_4wd`. Nuestra hipótesis es que esos valores tienen un 1 si el coche tiene tracción a las 4 ruedas o el campo está vacío si no la tiene.\n",
    "\n",
    "Imprimeremos los valores únicos de ese campo."
   ]
  },
  {
   "cell_type": "code",
   "execution_count": 5,
   "metadata": {},
   "outputs": [
    {
     "data": {
      "text/plain": [
       "array([ 1., nan])"
      ]
     },
     "execution_count": 5,
     "metadata": {},
     "output_type": "execute_result"
    }
   ],
   "source": [
    "data_raw['is_4wd'].unique()"
   ]
  },
  {
   "cell_type": "markdown",
   "metadata": {},
   "source": [
    "Tal como pensábamos, los valores ausentes en este campo nos dicen que el coche no tiene tracción a las cuatro ruedas, por lo que vamos a cambiarlos por un 0."
   ]
  },
  {
   "cell_type": "code",
   "execution_count": 6,
   "metadata": {},
   "outputs": [
    {
     "data": {
      "text/plain": [
       "array([1., 0.])"
      ]
     },
     "execution_count": 6,
     "metadata": {},
     "output_type": "execute_result"
    }
   ],
   "source": [
    "data_raw['is_4wd'] = data_raw['is_4wd'].fillna(0)\n",
    "data_raw['is_4wd'].unique()"
   ]
  },
  {
   "cell_type": "markdown",
   "metadata": {},
   "source": [
    "### Tasa de valores ausentes\n",
    "\n",
    "Ahora que hemos corregido los valores ausentes en `is_4wd`. Vamos a ver que tasa de valores ausentes tenemos en el DataFrame por campo y buscaremos patrones.\n",
    "\n",
    "Primero imprimimos el porcentaje de valores ausentes por columna:"
   ]
  },
  {
   "cell_type": "code",
   "execution_count": 7,
   "metadata": {},
   "outputs": [
    {
     "name": "stdout",
     "output_type": "stream",
     "text": [
      "price            0.00\n",
      "model_year       7.02\n",
      "model            0.00\n",
      "condition        0.00\n",
      "cylinders       10.21\n",
      "fuel             0.00\n",
      "odometer        15.32\n",
      "transmission     0.00\n",
      "type             0.00\n",
      "paint_color     17.99\n",
      "is_4wd           0.00\n",
      "date_posted      0.00\n",
      "days_listed      0.00\n",
      "dtype: float64\n"
     ]
    }
   ],
   "source": [
    "print(round((data_raw.isna().sum()/len(data_raw))*100, 2))"
   ]
  },
  {
   "cell_type": "markdown",
   "metadata": {},
   "source": [
    "Observamos que tenemos un alto número de ausentes en las columnas `model_year`, `cylinders`, `odometer` y sobre todo en la columna `paint_color`. Trataremos de rellenar los valores ausentes en la siguiente sección del proyecto."
   ]
  },
  {
   "cell_type": "markdown",
   "metadata": {},
   "source": [
    "### Corregir valores ausentes\n",
    "\n",
    "En el apartado anterior vimos que tenenemos 4 columnas de datos con valores ausentes. Dichas columnas son:\n",
    "\n",
    " - `model_year`.\n",
    " - `cylinders`.\n",
    " - `odometer`.\n",
    " - `paint_color`.\n",
    " "
   ]
  },
  {
   "cell_type": "markdown",
   "metadata": {},
   "source": [
    "De esas 4 columnas, 3 de ellas son variables cuantitativas y 1 una de ellas (el color de la pintura) es categórica. Ésta última es la más complicada de obtener con los datos que tenemos, así que rellenaremos las celdas ausentes con la palabra `unknown`."
   ]
  },
  {
   "cell_type": "markdown",
   "metadata": {},
   "source": [
    "#### Valores ausentes en `paint_color`"
   ]
  },
  {
   "cell_type": "code",
   "execution_count": 8,
   "metadata": {},
   "outputs": [
    {
     "data": {
      "text/html": [
       "<div>\n",
       "<style scoped>\n",
       "    .dataframe tbody tr th:only-of-type {\n",
       "        vertical-align: middle;\n",
       "    }\n",
       "\n",
       "    .dataframe tbody tr th {\n",
       "        vertical-align: top;\n",
       "    }\n",
       "\n",
       "    .dataframe thead th {\n",
       "        text-align: right;\n",
       "    }\n",
       "</style>\n",
       "<table border=\"1\" class=\"dataframe\">\n",
       "  <thead>\n",
       "    <tr style=\"text-align: right;\">\n",
       "      <th></th>\n",
       "      <th>price</th>\n",
       "      <th>model_year</th>\n",
       "      <th>model</th>\n",
       "      <th>condition</th>\n",
       "      <th>cylinders</th>\n",
       "      <th>fuel</th>\n",
       "      <th>odometer</th>\n",
       "      <th>transmission</th>\n",
       "      <th>type</th>\n",
       "      <th>paint_color</th>\n",
       "      <th>is_4wd</th>\n",
       "      <th>date_posted</th>\n",
       "      <th>days_listed</th>\n",
       "    </tr>\n",
       "  </thead>\n",
       "  <tbody>\n",
       "    <tr>\n",
       "      <th>0</th>\n",
       "      <td>9400</td>\n",
       "      <td>2011.0</td>\n",
       "      <td>bmw x5</td>\n",
       "      <td>good</td>\n",
       "      <td>6.0</td>\n",
       "      <td>gas</td>\n",
       "      <td>145000.0</td>\n",
       "      <td>automatic</td>\n",
       "      <td>SUV</td>\n",
       "      <td>unknown</td>\n",
       "      <td>1.0</td>\n",
       "      <td>2018-06-23</td>\n",
       "      <td>19</td>\n",
       "    </tr>\n",
       "    <tr>\n",
       "      <th>1</th>\n",
       "      <td>25500</td>\n",
       "      <td>NaN</td>\n",
       "      <td>ford f-150</td>\n",
       "      <td>good</td>\n",
       "      <td>6.0</td>\n",
       "      <td>gas</td>\n",
       "      <td>88705.0</td>\n",
       "      <td>automatic</td>\n",
       "      <td>pickup</td>\n",
       "      <td>white</td>\n",
       "      <td>1.0</td>\n",
       "      <td>2018-10-19</td>\n",
       "      <td>50</td>\n",
       "    </tr>\n",
       "    <tr>\n",
       "      <th>2</th>\n",
       "      <td>5500</td>\n",
       "      <td>2013.0</td>\n",
       "      <td>hyundai sonata</td>\n",
       "      <td>like new</td>\n",
       "      <td>4.0</td>\n",
       "      <td>gas</td>\n",
       "      <td>110000.0</td>\n",
       "      <td>automatic</td>\n",
       "      <td>sedan</td>\n",
       "      <td>red</td>\n",
       "      <td>0.0</td>\n",
       "      <td>2019-02-07</td>\n",
       "      <td>79</td>\n",
       "    </tr>\n",
       "    <tr>\n",
       "      <th>3</th>\n",
       "      <td>1500</td>\n",
       "      <td>2003.0</td>\n",
       "      <td>ford f-150</td>\n",
       "      <td>fair</td>\n",
       "      <td>8.0</td>\n",
       "      <td>gas</td>\n",
       "      <td>NaN</td>\n",
       "      <td>automatic</td>\n",
       "      <td>pickup</td>\n",
       "      <td>unknown</td>\n",
       "      <td>0.0</td>\n",
       "      <td>2019-03-22</td>\n",
       "      <td>9</td>\n",
       "    </tr>\n",
       "    <tr>\n",
       "      <th>4</th>\n",
       "      <td>14900</td>\n",
       "      <td>2017.0</td>\n",
       "      <td>chrysler 200</td>\n",
       "      <td>excellent</td>\n",
       "      <td>4.0</td>\n",
       "      <td>gas</td>\n",
       "      <td>80903.0</td>\n",
       "      <td>automatic</td>\n",
       "      <td>sedan</td>\n",
       "      <td>black</td>\n",
       "      <td>0.0</td>\n",
       "      <td>2019-04-02</td>\n",
       "      <td>28</td>\n",
       "    </tr>\n",
       "  </tbody>\n",
       "</table>\n",
       "</div>"
      ],
      "text/plain": [
       "   price  model_year           model  condition  cylinders fuel  odometer  \\\n",
       "0   9400      2011.0          bmw x5       good        6.0  gas  145000.0   \n",
       "1  25500         NaN      ford f-150       good        6.0  gas   88705.0   \n",
       "2   5500      2013.0  hyundai sonata   like new        4.0  gas  110000.0   \n",
       "3   1500      2003.0      ford f-150       fair        8.0  gas       NaN   \n",
       "4  14900      2017.0    chrysler 200  excellent        4.0  gas   80903.0   \n",
       "\n",
       "  transmission    type paint_color  is_4wd date_posted  days_listed  \n",
       "0    automatic     SUV     unknown     1.0  2018-06-23           19  \n",
       "1    automatic  pickup       white     1.0  2018-10-19           50  \n",
       "2    automatic   sedan         red     0.0  2019-02-07           79  \n",
       "3    automatic  pickup     unknown     0.0  2019-03-22            9  \n",
       "4    automatic   sedan       black     0.0  2019-04-02           28  "
      ]
     },
     "execution_count": 8,
     "metadata": {},
     "output_type": "execute_result"
    }
   ],
   "source": [
    "#Rellenamos valores ausentes en la columna 'paint_color' y comprobamos el resultado\n",
    "\n",
    "data_raw['paint_color'] = data_raw['paint_color'].fillna('unknown')\n",
    "\n",
    "data_raw.head()"
   ]
  },
  {
   "cell_type": "markdown",
   "metadata": {},
   "source": [
    "#### Valores ausentes en año del modelo y no. de cilindros\n",
    "\n",
    "En la columna `model_year` podemos rellenar las celdas ausentes con el valor de la mediana en el año del modelo según el modelo de vehículo. Del mismo modo podemos hacerlo para la columna `cylinders`.\n",
    "\n",
    "Definiremos una función para rellenar cada uno de estos datos.\n",
    "\n",
    "**Función para rellenar el año del modelo:**"
   ]
  },
  {
   "cell_type": "code",
   "execution_count": 9,
   "metadata": {},
   "outputs": [],
   "source": [
    "#Función para rellenar los valores ausentes en la columna 'model_year'\n",
    "median_model_year = data_raw.groupby('model')['model_year'].median()\n",
    "\n",
    "def fill_model_year(row):\n",
    "    \n",
    "    model_year = row['model_year']\n",
    "    model = row['model']\n",
    "    \n",
    "    if pd.isna(model_year):\n",
    "        try:\n",
    "            return median_model_year.loc[model]\n",
    "        except:\n",
    "            return model_year\n",
    "    else:\n",
    "        return model_year\n",
    "        "
   ]
  },
  {
   "cell_type": "code",
   "execution_count": 10,
   "metadata": {},
   "outputs": [
    {
     "name": "stdout",
     "output_type": "stream",
     "text": [
      "2011.0\n"
     ]
    }
   ],
   "source": [
    "# Comprueba si funciona\n",
    "\n",
    "row_values = [None, 'ford f-150'] \n",
    "row_columns = ['model_year', 'model']\n",
    "row = pd.Series(data=row_values, index=row_columns)\n",
    "\n",
    "print(fill_model_year(row))"
   ]
  },
  {
   "cell_type": "markdown",
   "metadata": {},
   "source": [
    "Aplicamos la nueva función a cada fila de la columna `model_year`."
   ]
  },
  {
   "cell_type": "code",
   "execution_count": 11,
   "metadata": {},
   "outputs": [],
   "source": [
    "#Aplicamos cambios a la columna 'model_year'\n",
    "\n",
    "data_raw['model_year'] = data_raw.apply(fill_model_year, axis=1)"
   ]
  },
  {
   "cell_type": "markdown",
   "metadata": {},
   "source": [
    "**Función para rellenar el número de cilindros:**"
   ]
  },
  {
   "cell_type": "code",
   "execution_count": 12,
   "metadata": {},
   "outputs": [],
   "source": [
    "#Función para rellenar los valores ausentes en la columna 'cylinders'\n",
    "median_cylinders = data_raw.groupby('model')['cylinders'].median()\n",
    "\n",
    "def fill_cylinders(row):\n",
    "    \n",
    "    cylinders = row['cylinders']\n",
    "    model = row['model']\n",
    "    \n",
    "    if pd.isna(cylinders):\n",
    "        try:\n",
    "            return median_cylinders.loc[model]\n",
    "        except:\n",
    "            return cylinders\n",
    "    else:\n",
    "        return cylinders\n",
    "        "
   ]
  },
  {
   "cell_type": "code",
   "execution_count": 13,
   "metadata": {},
   "outputs": [
    {
     "name": "stdout",
     "output_type": "stream",
     "text": [
      "8.0\n"
     ]
    }
   ],
   "source": [
    "# Comprueba si funciona\n",
    "\n",
    "row_values = [None, 'ford f-150'] \n",
    "row_columns = ['cylinders', 'model']\n",
    "row = pd.Series(data=row_values, index=row_columns)\n",
    "\n",
    "print(fill_cylinders(row))"
   ]
  },
  {
   "cell_type": "markdown",
   "metadata": {},
   "source": [
    "Aplicamos la nueva función a cada fila de la columna `model_year`."
   ]
  },
  {
   "cell_type": "code",
   "execution_count": 14,
   "metadata": {},
   "outputs": [],
   "source": [
    "#Aplicamos cambios a la columna 'cylinders'\n",
    "\n",
    "data_raw['cylinders'] = data_raw.apply(fill_cylinders, axis=1)"
   ]
  },
  {
   "cell_type": "markdown",
   "metadata": {},
   "source": [
    "#### Valores ausentes en millaje\n",
    "\n",
    "Los valores ausentes en la columna de millaje los podemos rellenar con el valor medio en función del año del modelo, ya que hemos rellenado todos los valores ausentes en dicha columna.\n",
    "\n",
    "Deducimos que con un uso normal de un vehículo, lo normal es que las millas totales recorridas sean similares para aquellos con una misma antigüedad del vehículo."
   ]
  },
  {
   "cell_type": "markdown",
   "metadata": {},
   "source": [
    "Definimos una función similar a las anteriores para rellenar estos valores:"
   ]
  },
  {
   "cell_type": "code",
   "execution_count": 15,
   "metadata": {},
   "outputs": [],
   "source": [
    "#Función para rellenar los valores ausentes en la columna 'odometer'\n",
    "mean_odo = data_raw.groupby('model_year')['odometer'].mean()\n",
    "\n",
    "def fill_odometer(row): #Nota: hay que hacer 0 los valores ausentes\n",
    "    \n",
    "    odometer = row['odometer']\n",
    "    model_year = row['model_year']\n",
    "    \n",
    "    if pd.isna(odometer):\n",
    "        try:\n",
    "            return round(mean_odo.loc[model_year], 1)\n",
    "        except:\n",
    "            return odometer\n",
    "    else:\n",
    "        return odometer"
   ]
  },
  {
   "cell_type": "code",
   "execution_count": 16,
   "metadata": {},
   "outputs": [
    {
     "name": "stdout",
     "output_type": "stream",
     "text": [
      "124883.6\n"
     ]
    }
   ],
   "source": [
    "# Comprueba si funciona\n",
    "\n",
    "row_values = [2011, None] \n",
    "row_columns = ['model_year', 'odometer']\n",
    "row = pd.Series(data=row_values, index=row_columns)\n",
    "\n",
    "print(fill_odometer(row))"
   ]
  },
  {
   "cell_type": "code",
   "execution_count": 17,
   "metadata": {},
   "outputs": [],
   "source": [
    "#Aplicamos cambios a la columna 'odometer'\n",
    "\n",
    "data_raw['odometer'] = data_raw.apply(fill_odometer, axis=1)"
   ]
  },
  {
   "cell_type": "markdown",
   "metadata": {},
   "source": [
    "### Comprobamos los datos\n",
    "\n",
    "Ahora que hemos rellenado todos los valores ausentes vamos a comprobar nuestro conjunto de datos imprimiendo las primeras 10 filas y comprobando si existen datos ausentes."
   ]
  },
  {
   "cell_type": "code",
   "execution_count": 18,
   "metadata": {},
   "outputs": [
    {
     "data": {
      "text/html": [
       "<div>\n",
       "<style scoped>\n",
       "    .dataframe tbody tr th:only-of-type {\n",
       "        vertical-align: middle;\n",
       "    }\n",
       "\n",
       "    .dataframe tbody tr th {\n",
       "        vertical-align: top;\n",
       "    }\n",
       "\n",
       "    .dataframe thead th {\n",
       "        text-align: right;\n",
       "    }\n",
       "</style>\n",
       "<table border=\"1\" class=\"dataframe\">\n",
       "  <thead>\n",
       "    <tr style=\"text-align: right;\">\n",
       "      <th></th>\n",
       "      <th>price</th>\n",
       "      <th>model_year</th>\n",
       "      <th>model</th>\n",
       "      <th>condition</th>\n",
       "      <th>cylinders</th>\n",
       "      <th>fuel</th>\n",
       "      <th>odometer</th>\n",
       "      <th>transmission</th>\n",
       "      <th>type</th>\n",
       "      <th>paint_color</th>\n",
       "      <th>is_4wd</th>\n",
       "      <th>date_posted</th>\n",
       "      <th>days_listed</th>\n",
       "    </tr>\n",
       "  </thead>\n",
       "  <tbody>\n",
       "    <tr>\n",
       "      <th>0</th>\n",
       "      <td>9400</td>\n",
       "      <td>2011.0</td>\n",
       "      <td>bmw x5</td>\n",
       "      <td>good</td>\n",
       "      <td>6.0</td>\n",
       "      <td>gas</td>\n",
       "      <td>145000.0</td>\n",
       "      <td>automatic</td>\n",
       "      <td>SUV</td>\n",
       "      <td>unknown</td>\n",
       "      <td>1.0</td>\n",
       "      <td>2018-06-23</td>\n",
       "      <td>19</td>\n",
       "    </tr>\n",
       "    <tr>\n",
       "      <th>1</th>\n",
       "      <td>25500</td>\n",
       "      <td>2011.0</td>\n",
       "      <td>ford f-150</td>\n",
       "      <td>good</td>\n",
       "      <td>6.0</td>\n",
       "      <td>gas</td>\n",
       "      <td>88705.0</td>\n",
       "      <td>automatic</td>\n",
       "      <td>pickup</td>\n",
       "      <td>white</td>\n",
       "      <td>1.0</td>\n",
       "      <td>2018-10-19</td>\n",
       "      <td>50</td>\n",
       "    </tr>\n",
       "    <tr>\n",
       "      <th>2</th>\n",
       "      <td>5500</td>\n",
       "      <td>2013.0</td>\n",
       "      <td>hyundai sonata</td>\n",
       "      <td>like new</td>\n",
       "      <td>4.0</td>\n",
       "      <td>gas</td>\n",
       "      <td>110000.0</td>\n",
       "      <td>automatic</td>\n",
       "      <td>sedan</td>\n",
       "      <td>red</td>\n",
       "      <td>0.0</td>\n",
       "      <td>2019-02-07</td>\n",
       "      <td>79</td>\n",
       "    </tr>\n",
       "    <tr>\n",
       "      <th>3</th>\n",
       "      <td>1500</td>\n",
       "      <td>2003.0</td>\n",
       "      <td>ford f-150</td>\n",
       "      <td>fair</td>\n",
       "      <td>8.0</td>\n",
       "      <td>gas</td>\n",
       "      <td>162071.8</td>\n",
       "      <td>automatic</td>\n",
       "      <td>pickup</td>\n",
       "      <td>unknown</td>\n",
       "      <td>0.0</td>\n",
       "      <td>2019-03-22</td>\n",
       "      <td>9</td>\n",
       "    </tr>\n",
       "    <tr>\n",
       "      <th>4</th>\n",
       "      <td>14900</td>\n",
       "      <td>2017.0</td>\n",
       "      <td>chrysler 200</td>\n",
       "      <td>excellent</td>\n",
       "      <td>4.0</td>\n",
       "      <td>gas</td>\n",
       "      <td>80903.0</td>\n",
       "      <td>automatic</td>\n",
       "      <td>sedan</td>\n",
       "      <td>black</td>\n",
       "      <td>0.0</td>\n",
       "      <td>2019-04-02</td>\n",
       "      <td>28</td>\n",
       "    </tr>\n",
       "    <tr>\n",
       "      <th>5</th>\n",
       "      <td>14990</td>\n",
       "      <td>2014.0</td>\n",
       "      <td>chrysler 300</td>\n",
       "      <td>excellent</td>\n",
       "      <td>6.0</td>\n",
       "      <td>gas</td>\n",
       "      <td>57954.0</td>\n",
       "      <td>automatic</td>\n",
       "      <td>sedan</td>\n",
       "      <td>black</td>\n",
       "      <td>1.0</td>\n",
       "      <td>2018-06-20</td>\n",
       "      <td>15</td>\n",
       "    </tr>\n",
       "    <tr>\n",
       "      <th>6</th>\n",
       "      <td>12990</td>\n",
       "      <td>2015.0</td>\n",
       "      <td>toyota camry</td>\n",
       "      <td>excellent</td>\n",
       "      <td>4.0</td>\n",
       "      <td>gas</td>\n",
       "      <td>79212.0</td>\n",
       "      <td>automatic</td>\n",
       "      <td>sedan</td>\n",
       "      <td>white</td>\n",
       "      <td>0.0</td>\n",
       "      <td>2018-12-27</td>\n",
       "      <td>73</td>\n",
       "    </tr>\n",
       "    <tr>\n",
       "      <th>7</th>\n",
       "      <td>15990</td>\n",
       "      <td>2013.0</td>\n",
       "      <td>honda pilot</td>\n",
       "      <td>excellent</td>\n",
       "      <td>6.0</td>\n",
       "      <td>gas</td>\n",
       "      <td>109473.0</td>\n",
       "      <td>automatic</td>\n",
       "      <td>SUV</td>\n",
       "      <td>black</td>\n",
       "      <td>1.0</td>\n",
       "      <td>2019-01-07</td>\n",
       "      <td>68</td>\n",
       "    </tr>\n",
       "    <tr>\n",
       "      <th>8</th>\n",
       "      <td>11500</td>\n",
       "      <td>2012.0</td>\n",
       "      <td>kia sorento</td>\n",
       "      <td>excellent</td>\n",
       "      <td>4.0</td>\n",
       "      <td>gas</td>\n",
       "      <td>104174.0</td>\n",
       "      <td>automatic</td>\n",
       "      <td>SUV</td>\n",
       "      <td>unknown</td>\n",
       "      <td>1.0</td>\n",
       "      <td>2018-07-16</td>\n",
       "      <td>19</td>\n",
       "    </tr>\n",
       "    <tr>\n",
       "      <th>9</th>\n",
       "      <td>9200</td>\n",
       "      <td>2008.0</td>\n",
       "      <td>honda pilot</td>\n",
       "      <td>excellent</td>\n",
       "      <td>6.0</td>\n",
       "      <td>gas</td>\n",
       "      <td>147191.0</td>\n",
       "      <td>automatic</td>\n",
       "      <td>SUV</td>\n",
       "      <td>blue</td>\n",
       "      <td>1.0</td>\n",
       "      <td>2019-02-15</td>\n",
       "      <td>17</td>\n",
       "    </tr>\n",
       "  </tbody>\n",
       "</table>\n",
       "</div>"
      ],
      "text/plain": [
       "   price  model_year           model  condition  cylinders fuel  odometer  \\\n",
       "0   9400      2011.0          bmw x5       good        6.0  gas  145000.0   \n",
       "1  25500      2011.0      ford f-150       good        6.0  gas   88705.0   \n",
       "2   5500      2013.0  hyundai sonata   like new        4.0  gas  110000.0   \n",
       "3   1500      2003.0      ford f-150       fair        8.0  gas  162071.8   \n",
       "4  14900      2017.0    chrysler 200  excellent        4.0  gas   80903.0   \n",
       "5  14990      2014.0    chrysler 300  excellent        6.0  gas   57954.0   \n",
       "6  12990      2015.0    toyota camry  excellent        4.0  gas   79212.0   \n",
       "7  15990      2013.0     honda pilot  excellent        6.0  gas  109473.0   \n",
       "8  11500      2012.0     kia sorento  excellent        4.0  gas  104174.0   \n",
       "9   9200      2008.0     honda pilot  excellent        6.0  gas  147191.0   \n",
       "\n",
       "  transmission    type paint_color  is_4wd date_posted  days_listed  \n",
       "0    automatic     SUV     unknown     1.0  2018-06-23           19  \n",
       "1    automatic  pickup       white     1.0  2018-10-19           50  \n",
       "2    automatic   sedan         red     0.0  2019-02-07           79  \n",
       "3    automatic  pickup     unknown     0.0  2019-03-22            9  \n",
       "4    automatic   sedan       black     0.0  2019-04-02           28  \n",
       "5    automatic   sedan       black     1.0  2018-06-20           15  \n",
       "6    automatic   sedan       white     0.0  2018-12-27           73  \n",
       "7    automatic     SUV       black     1.0  2019-01-07           68  \n",
       "8    automatic     SUV     unknown     1.0  2018-07-16           19  \n",
       "9    automatic     SUV        blue     1.0  2019-02-15           17  "
      ]
     },
     "execution_count": 18,
     "metadata": {},
     "output_type": "execute_result"
    }
   ],
   "source": [
    "#Comprobamos que se hayan rellenado bien los datos\n",
    "\n",
    "data_raw.head(10)"
   ]
  },
  {
   "cell_type": "code",
   "execution_count": 19,
   "metadata": {},
   "outputs": [
    {
     "data": {
      "text/plain": [
       "model_year     0\n",
       "cylinders      0\n",
       "odometer       1\n",
       "paint_color    0\n",
       "dtype: int64"
      ]
     },
     "execution_count": 19,
     "metadata": {},
     "output_type": "execute_result"
    }
   ],
   "source": [
    "data_raw[['model_year', 'cylinders', 'odometer', 'paint_color']].isna().sum() "
   ]
  },
  {
   "cell_type": "markdown",
   "metadata": {},
   "source": [
    "Si comparamos las 10 primeras entradas recien impresas con las que imprimimos al inicio del documento, se puede ver que los valores que se mostraban como `NaN` ahora están rellenos con un valor en función de la condición que le hemos aplicado.\n",
    "\n",
    "Para confirmar esto, ademas podemos ver que tenemos las 4 columnas que hemos modificado sin valores ausentes, a excepción de una fila en la columna de millaje. Podemos comprobar que ha sucedido con esta entrada."
   ]
  },
  {
   "cell_type": "code",
   "execution_count": 20,
   "metadata": {},
   "outputs": [
    {
     "data": {
      "text/html": [
       "<div>\n",
       "<style scoped>\n",
       "    .dataframe tbody tr th:only-of-type {\n",
       "        vertical-align: middle;\n",
       "    }\n",
       "\n",
       "    .dataframe tbody tr th {\n",
       "        vertical-align: top;\n",
       "    }\n",
       "\n",
       "    .dataframe thead th {\n",
       "        text-align: right;\n",
       "    }\n",
       "</style>\n",
       "<table border=\"1\" class=\"dataframe\">\n",
       "  <thead>\n",
       "    <tr style=\"text-align: right;\">\n",
       "      <th></th>\n",
       "      <th>price</th>\n",
       "      <th>model_year</th>\n",
       "      <th>model</th>\n",
       "      <th>condition</th>\n",
       "      <th>cylinders</th>\n",
       "      <th>fuel</th>\n",
       "      <th>odometer</th>\n",
       "      <th>transmission</th>\n",
       "      <th>type</th>\n",
       "      <th>paint_color</th>\n",
       "      <th>is_4wd</th>\n",
       "      <th>date_posted</th>\n",
       "      <th>days_listed</th>\n",
       "    </tr>\n",
       "  </thead>\n",
       "  <tbody>\n",
       "    <tr>\n",
       "      <th>45694</th>\n",
       "      <td>18000</td>\n",
       "      <td>1929.0</td>\n",
       "      <td>ford f-150</td>\n",
       "      <td>good</td>\n",
       "      <td>8.0</td>\n",
       "      <td>gas</td>\n",
       "      <td>NaN</td>\n",
       "      <td>manual</td>\n",
       "      <td>other</td>\n",
       "      <td>silver</td>\n",
       "      <td>0.0</td>\n",
       "      <td>2018-11-18</td>\n",
       "      <td>59</td>\n",
       "    </tr>\n",
       "  </tbody>\n",
       "</table>\n",
       "</div>"
      ],
      "text/plain": [
       "       price  model_year       model condition  cylinders fuel  odometer  \\\n",
       "45694  18000      1929.0  ford f-150      good        8.0  gas       NaN   \n",
       "\n",
       "      transmission   type paint_color  is_4wd date_posted  days_listed  \n",
       "45694       manual  other      silver     0.0  2018-11-18           59  "
      ]
     },
     "execution_count": 20,
     "metadata": {},
     "output_type": "execute_result"
    }
   ],
   "source": [
    "data_raw[data_raw['odometer'].isna()]"
   ]
  },
  {
   "cell_type": "code",
   "execution_count": 21,
   "metadata": {},
   "outputs": [
    {
     "data": {
      "text/plain": [
       "model_year\n",
       "1908.0    169328.000000\n",
       "1929.0              NaN\n",
       "1936.0     30000.000000\n",
       "1948.0      4000.000000\n",
       "1949.0      1800.000000\n",
       "              ...      \n",
       "2015.0     82503.819348\n",
       "2016.0     61244.992120\n",
       "2017.0     47317.910506\n",
       "2018.0     25309.197445\n",
       "2019.0     17076.810976\n",
       "Name: odometer, Length: 70, dtype: float64"
      ]
     },
     "execution_count": 21,
     "metadata": {},
     "output_type": "execute_result"
    }
   ],
   "source": [
    "mean_odo"
   ]
  },
  {
   "cell_type": "markdown",
   "metadata": {},
   "source": [
    "Con estos datos podemos ver que nuestra función no ha podido rellenar este valor por falta de datos en el campo `odometer` para vehículos del año 1929. Como es sólo una entrada, no va a afectar a nuestro análisis, por lo que podemos eliminarla."
   ]
  },
  {
   "cell_type": "code",
   "execution_count": 22,
   "metadata": {},
   "outputs": [],
   "source": [
    "data_raw = data_raw.dropna()"
   ]
  },
  {
   "cell_type": "markdown",
   "metadata": {},
   "source": [
    "## Corregir los tipos de datos"
   ]
  },
  {
   "cell_type": "markdown",
   "metadata": {},
   "source": [
    "Previamente hemos observado que hay campos con un formato incorrecto. En este apartado le aplicaremos el formato correcto."
   ]
  },
  {
   "cell_type": "markdown",
   "metadata": {},
   "source": [
    "**Valores enteros**\n",
    "\n",
    "Hemos podido comprobar que las columnas `model_year` y `cylinders` deberían ser valores enteros, pero no los encontramos como valores en coma flotante.\n",
    "\n",
    "Vamos a corregirlos a valores enteros."
   ]
  },
  {
   "cell_type": "code",
   "execution_count": 23,
   "metadata": {},
   "outputs": [],
   "source": [
    "#Sustituimos los valores en coma flotante que deberían ser enteros\n",
    "data_raw[['model_year', 'cylinders']] = data_raw[['model_year', 'cylinders']].astype('int64')"
   ]
  },
  {
   "cell_type": "markdown",
   "metadata": {},
   "source": [
    "**Valores booleanos.**\n",
    "\n",
    "Hemos visto antes que en la columna `is_4wd` tenemos un 1 si el coche tiene tracción a las 4 ruedas y 0 si no. Vamos a sustituir los valores por True o False.\n"
   ]
  },
  {
   "cell_type": "code",
   "execution_count": 24,
   "metadata": {},
   "outputs": [],
   "source": [
    "#Sustituimos los valores 0 y 1 por valores booleanos.\n",
    "data_raw['is_4wd'] = data_raw['is_4wd'].replace([0, 1], [False, True])"
   ]
  },
  {
   "cell_type": "markdown",
   "metadata": {},
   "source": [
    "**Formato de fecha**\n",
    "\n",
    "Por último, la columna `date_posted` es de tipo `object`, debemos cambiarla a tipo `timestamp`. Esto nos permitirá trabajar mejor en nuestro análisis y crear nuevas columnas para clasificar los datos."
   ]
  },
  {
   "cell_type": "code",
   "execution_count": 25,
   "metadata": {},
   "outputs": [],
   "source": [
    "data_raw['date_posted'] = pd.to_datetime(data_raw['date_posted'], format='%Y-%m-%d')"
   ]
  },
  {
   "cell_type": "markdown",
   "metadata": {},
   "source": [
    "Para verificar que se han realizado bien los cambios, imprimimos los tipos de datos."
   ]
  },
  {
   "cell_type": "code",
   "execution_count": 26,
   "metadata": {},
   "outputs": [
    {
     "data": {
      "text/plain": [
       "price                    int64\n",
       "model_year               int64\n",
       "model                   object\n",
       "condition               object\n",
       "cylinders                int64\n",
       "fuel                    object\n",
       "odometer               float64\n",
       "transmission            object\n",
       "type                    object\n",
       "paint_color             object\n",
       "is_4wd                    bool\n",
       "date_posted     datetime64[ns]\n",
       "days_listed              int64\n",
       "dtype: object"
      ]
     },
     "execution_count": 26,
     "metadata": {},
     "output_type": "execute_result"
    }
   ],
   "source": [
    "data_raw.dtypes"
   ]
  },
  {
   "cell_type": "markdown",
   "metadata": {},
   "source": [
    "### Conclusiones y siguientes pasos\n",
    "\n",
    "Hemos cambiado a valores booleanos el dato que nos indica si un vehículo es tracción a las 4 ruedas y hemos aplicado el formato de fecha a la columna de la fecha de publicación del anuncio.\n",
    "\n",
    "Ahora agregaremos factores condicionales a los datos para facilitar el análisis."
   ]
  },
  {
   "cell_type": "markdown",
   "metadata": {},
   "source": [
    "## Enriquecer datos"
   ]
  },
  {
   "cell_type": "markdown",
   "metadata": {},
   "source": [
    "Para mejorar el análisis, incluiremos las columnas `week_day`, `month`, `year`, `vehicle_age` y `miles_per_year`.\n",
    "\n",
    "En la columna `vehicle_age` calcularemos los años que tiene el vehículo en el momento de publicar el anuncio, y en `miles_per_year` haremos un promedio de las millas por año del vehículo.\n",
    "\n",
    "En las columnas con respecto a la fecha, separaremos el valor de la fecha en día de la semana, mes y año de publicación del anuncio.\n",
    "\n",
    "Para mejorar la clasificación de los vehículos por su condición, crearemos un diccionario de IDs dónde guardaremos los valores de condición del vehículo y le asignaremos un número. Definiremos una función para sustituir los valores y la aplicaremos a la columna `condition` del conjunto de datos principal. \n"
   ]
  },
  {
   "cell_type": "code",
   "execution_count": 27,
   "metadata": {},
   "outputs": [],
   "source": [
    "# Agrega el día de la semana, mes y año de cuando se colocó el anuncio.\n",
    "\n",
    "data_raw['week_day'] = pd.DatetimeIndex(data_raw['date_posted']).dayofweek\n",
    "data_raw['month'] = pd.DatetimeIndex(data_raw['date_posted']).month\n",
    "data_raw['year'] = pd.DatetimeIndex(data_raw['date_posted']).year"
   ]
  },
  {
   "cell_type": "code",
   "execution_count": 28,
   "metadata": {},
   "outputs": [],
   "source": [
    "# Agrega los años del vehículo cuando el anuncio se colocó\n",
    "\n",
    "data_raw['vehicle_age'] = data_raw['year'] - data_raw['model_year']"
   ]
  },
  {
   "cell_type": "code",
   "execution_count": 29,
   "metadata": {},
   "outputs": [],
   "source": [
    "# Agrega el millaje promedio del vehículo por año\n",
    "\n",
    "def miles_per_year(row):\n",
    "    \n",
    "    vehicle_age = row['vehicle_age']\n",
    "    odometer = row['odometer']\n",
    "    miles_per_year = 0\n",
    "    \n",
    "    if vehicle_age == 0:\n",
    "        return odometer\n",
    "    else:\n",
    "        miles_per_year = round((odometer/vehicle_age), 1)\n",
    "        return miles_per_year"
   ]
  },
  {
   "cell_type": "code",
   "execution_count": 30,
   "metadata": {},
   "outputs": [],
   "source": [
    "data_raw['miles_per_year'] = data_raw.apply(miles_per_year, axis=1)"
   ]
  },
  {
   "cell_type": "code",
   "execution_count": 31,
   "metadata": {},
   "outputs": [],
   "source": [
    "# Creamos el diccionario con los IDs del estado del vehículo\n",
    "condition_dict = {'new': 5, 'excellent': 3, 'good': 2, 'like new': 4, 'fair': 1, 'salvage': 0}"
   ]
  },
  {
   "cell_type": "code",
   "execution_count": 32,
   "metadata": {},
   "outputs": [],
   "source": [
    "# Aplicamos el diccionario a la columna 'condition'\n",
    "data_raw['condition'] = data_raw['condition'].map(condition_dict)"
   ]
  },
  {
   "cell_type": "markdown",
   "metadata": {},
   "source": [
    "## Comprobar datos limpios"
   ]
  },
  {
   "cell_type": "markdown",
   "metadata": {},
   "source": [
    "Tras aplicar los cambios en el conjunto de datos, vamos a comprobar que todos los cambios se hayan realizado y como nos queda el conjunto de datos una vez modificado.\n"
   ]
  },
  {
   "cell_type": "code",
   "execution_count": 33,
   "metadata": {},
   "outputs": [
    {
     "name": "stdout",
     "output_type": "stream",
     "text": [
      "<class 'pandas.core.frame.DataFrame'>\n",
      "Int64Index: 51524 entries, 0 to 51524\n",
      "Data columns (total 18 columns):\n",
      " #   Column          Non-Null Count  Dtype         \n",
      "---  ------          --------------  -----         \n",
      " 0   price           51524 non-null  int64         \n",
      " 1   model_year      51524 non-null  int64         \n",
      " 2   model           51524 non-null  object        \n",
      " 3   condition       51524 non-null  int64         \n",
      " 4   cylinders       51524 non-null  int64         \n",
      " 5   fuel            51524 non-null  object        \n",
      " 6   odometer        51524 non-null  float64       \n",
      " 7   transmission    51524 non-null  object        \n",
      " 8   type            51524 non-null  object        \n",
      " 9   paint_color     51524 non-null  object        \n",
      " 10  is_4wd          51524 non-null  bool          \n",
      " 11  date_posted     51524 non-null  datetime64[ns]\n",
      " 12  days_listed     51524 non-null  int64         \n",
      " 13  week_day        51524 non-null  int64         \n",
      " 14  month           51524 non-null  int64         \n",
      " 15  year            51524 non-null  int64         \n",
      " 16  vehicle_age     51524 non-null  int64         \n",
      " 17  miles_per_year  51524 non-null  float64       \n",
      "dtypes: bool(1), datetime64[ns](1), float64(2), int64(9), object(5)\n",
      "memory usage: 7.1+ MB\n"
     ]
    }
   ],
   "source": [
    "# imprime la información general/resumida sobre el DataFrame\n",
    "\n",
    "data_raw.info()"
   ]
  },
  {
   "cell_type": "code",
   "execution_count": 34,
   "metadata": {
    "scrolled": true
   },
   "outputs": [
    {
     "data": {
      "text/html": [
       "<div>\n",
       "<style scoped>\n",
       "    .dataframe tbody tr th:only-of-type {\n",
       "        vertical-align: middle;\n",
       "    }\n",
       "\n",
       "    .dataframe tbody tr th {\n",
       "        vertical-align: top;\n",
       "    }\n",
       "\n",
       "    .dataframe thead th {\n",
       "        text-align: right;\n",
       "    }\n",
       "</style>\n",
       "<table border=\"1\" class=\"dataframe\">\n",
       "  <thead>\n",
       "    <tr style=\"text-align: right;\">\n",
       "      <th></th>\n",
       "      <th>price</th>\n",
       "      <th>model_year</th>\n",
       "      <th>model</th>\n",
       "      <th>condition</th>\n",
       "      <th>cylinders</th>\n",
       "      <th>fuel</th>\n",
       "      <th>odometer</th>\n",
       "      <th>transmission</th>\n",
       "      <th>type</th>\n",
       "      <th>paint_color</th>\n",
       "      <th>is_4wd</th>\n",
       "      <th>date_posted</th>\n",
       "      <th>days_listed</th>\n",
       "      <th>week_day</th>\n",
       "      <th>month</th>\n",
       "      <th>year</th>\n",
       "      <th>vehicle_age</th>\n",
       "      <th>miles_per_year</th>\n",
       "    </tr>\n",
       "  </thead>\n",
       "  <tbody>\n",
       "    <tr>\n",
       "      <th>0</th>\n",
       "      <td>9400</td>\n",
       "      <td>2011</td>\n",
       "      <td>bmw x5</td>\n",
       "      <td>2</td>\n",
       "      <td>6</td>\n",
       "      <td>gas</td>\n",
       "      <td>145000.0</td>\n",
       "      <td>automatic</td>\n",
       "      <td>SUV</td>\n",
       "      <td>unknown</td>\n",
       "      <td>True</td>\n",
       "      <td>2018-06-23</td>\n",
       "      <td>19</td>\n",
       "      <td>5</td>\n",
       "      <td>6</td>\n",
       "      <td>2018</td>\n",
       "      <td>7</td>\n",
       "      <td>20714.3</td>\n",
       "    </tr>\n",
       "    <tr>\n",
       "      <th>1</th>\n",
       "      <td>25500</td>\n",
       "      <td>2011</td>\n",
       "      <td>ford f-150</td>\n",
       "      <td>2</td>\n",
       "      <td>6</td>\n",
       "      <td>gas</td>\n",
       "      <td>88705.0</td>\n",
       "      <td>automatic</td>\n",
       "      <td>pickup</td>\n",
       "      <td>white</td>\n",
       "      <td>True</td>\n",
       "      <td>2018-10-19</td>\n",
       "      <td>50</td>\n",
       "      <td>4</td>\n",
       "      <td>10</td>\n",
       "      <td>2018</td>\n",
       "      <td>7</td>\n",
       "      <td>12672.1</td>\n",
       "    </tr>\n",
       "    <tr>\n",
       "      <th>2</th>\n",
       "      <td>5500</td>\n",
       "      <td>2013</td>\n",
       "      <td>hyundai sonata</td>\n",
       "      <td>4</td>\n",
       "      <td>4</td>\n",
       "      <td>gas</td>\n",
       "      <td>110000.0</td>\n",
       "      <td>automatic</td>\n",
       "      <td>sedan</td>\n",
       "      <td>red</td>\n",
       "      <td>False</td>\n",
       "      <td>2019-02-07</td>\n",
       "      <td>79</td>\n",
       "      <td>3</td>\n",
       "      <td>2</td>\n",
       "      <td>2019</td>\n",
       "      <td>6</td>\n",
       "      <td>18333.3</td>\n",
       "    </tr>\n",
       "    <tr>\n",
       "      <th>3</th>\n",
       "      <td>1500</td>\n",
       "      <td>2003</td>\n",
       "      <td>ford f-150</td>\n",
       "      <td>1</td>\n",
       "      <td>8</td>\n",
       "      <td>gas</td>\n",
       "      <td>162071.8</td>\n",
       "      <td>automatic</td>\n",
       "      <td>pickup</td>\n",
       "      <td>unknown</td>\n",
       "      <td>False</td>\n",
       "      <td>2019-03-22</td>\n",
       "      <td>9</td>\n",
       "      <td>4</td>\n",
       "      <td>3</td>\n",
       "      <td>2019</td>\n",
       "      <td>16</td>\n",
       "      <td>10129.5</td>\n",
       "    </tr>\n",
       "    <tr>\n",
       "      <th>4</th>\n",
       "      <td>14900</td>\n",
       "      <td>2017</td>\n",
       "      <td>chrysler 200</td>\n",
       "      <td>3</td>\n",
       "      <td>4</td>\n",
       "      <td>gas</td>\n",
       "      <td>80903.0</td>\n",
       "      <td>automatic</td>\n",
       "      <td>sedan</td>\n",
       "      <td>black</td>\n",
       "      <td>False</td>\n",
       "      <td>2019-04-02</td>\n",
       "      <td>28</td>\n",
       "      <td>1</td>\n",
       "      <td>4</td>\n",
       "      <td>2019</td>\n",
       "      <td>2</td>\n",
       "      <td>40451.5</td>\n",
       "    </tr>\n",
       "    <tr>\n",
       "      <th>5</th>\n",
       "      <td>14990</td>\n",
       "      <td>2014</td>\n",
       "      <td>chrysler 300</td>\n",
       "      <td>3</td>\n",
       "      <td>6</td>\n",
       "      <td>gas</td>\n",
       "      <td>57954.0</td>\n",
       "      <td>automatic</td>\n",
       "      <td>sedan</td>\n",
       "      <td>black</td>\n",
       "      <td>True</td>\n",
       "      <td>2018-06-20</td>\n",
       "      <td>15</td>\n",
       "      <td>2</td>\n",
       "      <td>6</td>\n",
       "      <td>2018</td>\n",
       "      <td>4</td>\n",
       "      <td>14488.5</td>\n",
       "    </tr>\n",
       "    <tr>\n",
       "      <th>6</th>\n",
       "      <td>12990</td>\n",
       "      <td>2015</td>\n",
       "      <td>toyota camry</td>\n",
       "      <td>3</td>\n",
       "      <td>4</td>\n",
       "      <td>gas</td>\n",
       "      <td>79212.0</td>\n",
       "      <td>automatic</td>\n",
       "      <td>sedan</td>\n",
       "      <td>white</td>\n",
       "      <td>False</td>\n",
       "      <td>2018-12-27</td>\n",
       "      <td>73</td>\n",
       "      <td>3</td>\n",
       "      <td>12</td>\n",
       "      <td>2018</td>\n",
       "      <td>3</td>\n",
       "      <td>26404.0</td>\n",
       "    </tr>\n",
       "    <tr>\n",
       "      <th>7</th>\n",
       "      <td>15990</td>\n",
       "      <td>2013</td>\n",
       "      <td>honda pilot</td>\n",
       "      <td>3</td>\n",
       "      <td>6</td>\n",
       "      <td>gas</td>\n",
       "      <td>109473.0</td>\n",
       "      <td>automatic</td>\n",
       "      <td>SUV</td>\n",
       "      <td>black</td>\n",
       "      <td>True</td>\n",
       "      <td>2019-01-07</td>\n",
       "      <td>68</td>\n",
       "      <td>0</td>\n",
       "      <td>1</td>\n",
       "      <td>2019</td>\n",
       "      <td>6</td>\n",
       "      <td>18245.5</td>\n",
       "    </tr>\n",
       "    <tr>\n",
       "      <th>8</th>\n",
       "      <td>11500</td>\n",
       "      <td>2012</td>\n",
       "      <td>kia sorento</td>\n",
       "      <td>3</td>\n",
       "      <td>4</td>\n",
       "      <td>gas</td>\n",
       "      <td>104174.0</td>\n",
       "      <td>automatic</td>\n",
       "      <td>SUV</td>\n",
       "      <td>unknown</td>\n",
       "      <td>True</td>\n",
       "      <td>2018-07-16</td>\n",
       "      <td>19</td>\n",
       "      <td>0</td>\n",
       "      <td>7</td>\n",
       "      <td>2018</td>\n",
       "      <td>6</td>\n",
       "      <td>17362.3</td>\n",
       "    </tr>\n",
       "    <tr>\n",
       "      <th>9</th>\n",
       "      <td>9200</td>\n",
       "      <td>2008</td>\n",
       "      <td>honda pilot</td>\n",
       "      <td>3</td>\n",
       "      <td>6</td>\n",
       "      <td>gas</td>\n",
       "      <td>147191.0</td>\n",
       "      <td>automatic</td>\n",
       "      <td>SUV</td>\n",
       "      <td>blue</td>\n",
       "      <td>True</td>\n",
       "      <td>2019-02-15</td>\n",
       "      <td>17</td>\n",
       "      <td>4</td>\n",
       "      <td>2</td>\n",
       "      <td>2019</td>\n",
       "      <td>11</td>\n",
       "      <td>13381.0</td>\n",
       "    </tr>\n",
       "  </tbody>\n",
       "</table>\n",
       "</div>"
      ],
      "text/plain": [
       "   price  model_year           model  condition  cylinders fuel  odometer  \\\n",
       "0   9400        2011          bmw x5          2          6  gas  145000.0   \n",
       "1  25500        2011      ford f-150          2          6  gas   88705.0   \n",
       "2   5500        2013  hyundai sonata          4          4  gas  110000.0   \n",
       "3   1500        2003      ford f-150          1          8  gas  162071.8   \n",
       "4  14900        2017    chrysler 200          3          4  gas   80903.0   \n",
       "5  14990        2014    chrysler 300          3          6  gas   57954.0   \n",
       "6  12990        2015    toyota camry          3          4  gas   79212.0   \n",
       "7  15990        2013     honda pilot          3          6  gas  109473.0   \n",
       "8  11500        2012     kia sorento          3          4  gas  104174.0   \n",
       "9   9200        2008     honda pilot          3          6  gas  147191.0   \n",
       "\n",
       "  transmission    type paint_color  is_4wd date_posted  days_listed  week_day  \\\n",
       "0    automatic     SUV     unknown    True  2018-06-23           19         5   \n",
       "1    automatic  pickup       white    True  2018-10-19           50         4   \n",
       "2    automatic   sedan         red   False  2019-02-07           79         3   \n",
       "3    automatic  pickup     unknown   False  2019-03-22            9         4   \n",
       "4    automatic   sedan       black   False  2019-04-02           28         1   \n",
       "5    automatic   sedan       black    True  2018-06-20           15         2   \n",
       "6    automatic   sedan       white   False  2018-12-27           73         3   \n",
       "7    automatic     SUV       black    True  2019-01-07           68         0   \n",
       "8    automatic     SUV     unknown    True  2018-07-16           19         0   \n",
       "9    automatic     SUV        blue    True  2019-02-15           17         4   \n",
       "\n",
       "   month  year  vehicle_age  miles_per_year  \n",
       "0      6  2018            7         20714.3  \n",
       "1     10  2018            7         12672.1  \n",
       "2      2  2019            6         18333.3  \n",
       "3      3  2019           16         10129.5  \n",
       "4      4  2019            2         40451.5  \n",
       "5      6  2018            4         14488.5  \n",
       "6     12  2018            3         26404.0  \n",
       "7      1  2019            6         18245.5  \n",
       "8      7  2018            6         17362.3  \n",
       "9      2  2019           11         13381.0  "
      ]
     },
     "execution_count": 34,
     "metadata": {},
     "output_type": "execute_result"
    }
   ],
   "source": [
    "# imprimir una muestra de datos\n",
    "\n",
    "data_raw.head(10)"
   ]
  },
  {
   "cell_type": "markdown",
   "metadata": {},
   "source": [
    "## Estudiar parámetros principales\n",
    "\n",
    "En esta etapa del proyecto empezaremos por estudiar los principales parámetros que influyen en el precio del vehículo. Mostraremos dichos parámetros mediante histogramas.\n",
    "[Elige un enfoque apropiado para estudiar los parámetros enumerados a continuación, presta especial atención a cómo los valores atípicos afectan la forma y la legibilidad de los histogramas.]\n",
    "\n",
    "Los parámetros son:\n",
    "- Precio\n",
    "- Los años del vehículo cuando el anuncio se colocó\n",
    "- Millaje\n",
    "- Número de cilindros\n",
    "- Estado"
   ]
  },
  {
   "cell_type": "markdown",
   "metadata": {},
   "source": [
    "En primer lugar veamos en un histograma de como se ditribuyen los precios de los vehículos."
   ]
  },
  {
   "cell_type": "code",
   "execution_count": 35,
   "metadata": {},
   "outputs": [
    {
     "data": {
      "text/plain": [
       "<AxesSubplot:>"
      ]
     },
     "execution_count": 35,
     "metadata": {},
     "output_type": "execute_result"
    },
    {
     "data": {
      "image/png": "[encoded data removed]",
      "text/plain": [
       "<Figure size 864x432 with 1 Axes>"
      ]
     },
     "metadata": {
      "needs_background": "light"
     },
     "output_type": "display_data"
    }
   ],
   "source": [
    "data_raw['price'].hist(bins=100, figsize=(12,6))"
   ]
  },
  {
   "cell_type": "markdown",
   "metadata": {},
   "source": [
    "Como tenemos un rango muy amplio debido a algunos valores atípicos, vamos a imprimir un histograma con valores por debajo de 50000."
   ]
  },
  {
   "cell_type": "code",
   "execution_count": 36,
   "metadata": {},
   "outputs": [
    {
     "data": {
      "text/plain": [
       "<AxesSubplot:>"
      ]
     },
     "execution_count": 36,
     "metadata": {},
     "output_type": "execute_result"
    },
    {
     "data": {
      "image/png": "[encoded data removed]",
      "text/plain": [
       "<Figure size 864x432 with 1 Axes>"
      ]
     },
     "metadata": {
      "needs_background": "light"
     },
     "output_type": "display_data"
    }
   ],
   "source": [
    "data_raw.query('price < 50000')['price'].hist(bins=100, figsize=(12,6))"
   ]
  },
  {
   "cell_type": "markdown",
   "metadata": {},
   "source": [
    "A continuación veremos un histograma con la distribución de los años de los vehículos en el momento de la publicación del anuncio."
   ]
  },
  {
   "cell_type": "code",
   "execution_count": 37,
   "metadata": {
    "scrolled": false
   },
   "outputs": [
    {
     "data": {
      "text/plain": [
       "<AxesSubplot:>"
      ]
     },
     "execution_count": 37,
     "metadata": {},
     "output_type": "execute_result"
    },
    {
     "data": {
      "image/png": "[encoded data removed]",
      "text/plain": [
       "<Figure size 864x432 with 1 Axes>"
      ]
     },
     "metadata": {
      "needs_background": "light"
     },
     "output_type": "display_data"
    }
   ],
   "source": [
    "#Distribución de los años del vehículo en el momento en el que se publicó el anuncio.\n",
    "\n",
    "data_raw['vehicle_age'].hist(bins=100, figsize=(12,6))\n"
   ]
  },
  {
   "cell_type": "markdown",
   "metadata": {},
   "source": [
    "Seguimos con un histograma donde veamos el millaje de los vehículos."
   ]
  },
  {
   "cell_type": "code",
   "execution_count": 38,
   "metadata": {},
   "outputs": [
    {
     "data": {
      "text/plain": [
       "<AxesSubplot:>"
      ]
     },
     "execution_count": 38,
     "metadata": {},
     "output_type": "execute_result"
    },
    {
     "data": {
      "image/png": "[encoded data removed]",
      "text/plain": [
       "<Figure size 864x432 with 1 Axes>"
      ]
     },
     "metadata": {
      "needs_background": "light"
     },
     "output_type": "display_data"
    }
   ],
   "source": [
    "#Distribución del millaje de los vehículos.\n",
    "\n",
    "data_raw['odometer'].hist(bins=200, figsize=(12,6))"
   ]
  },
  {
   "cell_type": "markdown",
   "metadata": {},
   "source": [
    "En este gráfico podemos ver que hay una gran cantidad de vehículos que son nuevos, ya que tienen millaje 0, y algunos valores atípicos de algún vehículo con casi un millón de millas."
   ]
  },
  {
   "cell_type": "markdown",
   "metadata": {},
   "source": [
    "En el siguiente histograma veremós la cantidad de vehículos que hay según el número de cilindros del motor."
   ]
  },
  {
   "cell_type": "code",
   "execution_count": 39,
   "metadata": {},
   "outputs": [
    {
     "data": {
      "text/plain": [
       "<AxesSubplot:>"
      ]
     },
     "execution_count": 39,
     "metadata": {},
     "output_type": "execute_result"
    },
    {
     "data": {
      "image/png": "[encoded data removed]",
      "text/plain": [
       "<Figure size 864x432 with 1 Axes>"
      ]
     },
     "metadata": {
      "needs_background": "light"
     },
     "output_type": "display_data"
    }
   ],
   "source": [
    "#Distribución del número de cilindros del motor de los vehículos.\n",
    "\n",
    "data_raw['cylinders'].hist(figsize=(12,6))\n"
   ]
  },
  {
   "cell_type": "markdown",
   "metadata": {},
   "source": [
    "Finalmente veremos el histograma sobre la distribución del estado de los vehículos."
   ]
  },
  {
   "cell_type": "code",
   "execution_count": 40,
   "metadata": {},
   "outputs": [
    {
     "data": {
      "text/plain": [
       "<AxesSubplot:>"
      ]
     },
     "execution_count": 40,
     "metadata": {},
     "output_type": "execute_result"
    },
    {
     "data": {
      "image/png": "[encoded data removed]",
      "text/plain": [
       "<Figure size 864x432 with 1 Axes>"
      ]
     },
     "metadata": {
      "needs_background": "light"
     },
     "output_type": "display_data"
    }
   ],
   "source": [
    "#Distribución del estado de los vehículos.\n",
    "\n",
    "data_raw['condition'].hist(bins=5, figsize=(12,6))\n"
   ]
  },
  {
   "cell_type": "markdown",
   "metadata": {},
   "source": [
    "También podemos ver mediante una matriz de dispersión como se correlacionan entre sí todos ellos. Para ello vamos a crear una variable llamada `main_param_data` en la que incluiremos únicamente las columnas con los parámetros principales de nuestro DataFrame en bruto."
   ]
  },
  {
   "cell_type": "markdown",
   "metadata": {},
   "source": [
    "**Conclusiones**\n",
    "\n",
    "En los datos podemos observar varios valores atípicos en cada histograma que hemos mostrado. Los valores atípicos que podemos encontrar en cada gráfico son los siguientes:\n",
    "\n",
    " - En el histograma sobre el precio de los vehículos podemos ver que hay precios realmente altos para algunos vehículos, mientras que la mayoría se encuentra por debajo de 40000 dólares. Además hay una gran cantidad de vehículos con precio 0.\n",
    " - Sobre la antigüedad de los vehículos observamos que hay algunos muy antiguos con más de 50 años e incluso alguno con más de 100 años.\n",
    " - En el gráfico sobre el millaje también podemos ver algunos vehículos con una grran cantidad de millas recorridas, incluso algunos que rozan el millón. Otros mientras tanto que no han recorrido ni una milla.\n",
    " - Los histogramas sobre la condición y el número de cilindros encontramos valores normales. Tal vez en el gráfico sobre el número de cilindros podamos considerar aquellos vehículos con 3 y con 12 cilindros como valores atípicos."
   ]
  },
  {
   "cell_type": "markdown",
   "metadata": {},
   "source": [
    "## Estudiar y tratar valores atípicos\n",
    "\n",
    "A partir de los resultados anteriores, vamos a establecer los límites inferiores y superiores que consideramos normales para cada parámetro. Empezamos obteniendo los rangos intercuartílicos para aquellas variables con valores atípicos.\n"
   ]
  },
  {
   "cell_type": "code",
   "execution_count": 41,
   "metadata": {},
   "outputs": [
    {
     "name": "stdout",
     "output_type": "stream",
     "text": [
      "5000.0\n",
      "73500.0\n",
      "4.0\n",
      "\n",
      "16836.0\n",
      "152011.7\n",
      "12.0\n",
      "\n",
      "11836.0\n",
      "78511.70000000001\n",
      "8.0\n"
     ]
    }
   ],
   "source": [
    "#Valores para los cuartiles primero y tercero e IQR\n",
    "\n",
    "#IQR precio\n",
    "Q1_price = data_raw['price'].quantile(0.25)\n",
    "Q3_price = data_raw['price'].quantile(0.75)\n",
    "IQR_price = Q3_price - Q1_price\n",
    "\n",
    "#IQR millaje\n",
    "Q1_odo = data_raw['odometer'].quantile(0.25)\n",
    "Q3_odo = data_raw['odometer'].quantile(0.75)\n",
    "IQR_odo = Q3_odo - Q1_odo\n",
    "\n",
    "#IQR edad del vehículo\n",
    "Q1_age = data_raw['vehicle_age'].quantile(0.25)\n",
    "Q3_age = data_raw['vehicle_age'].quantile(0.75)\n",
    "IQR_age = Q3_age - Q1_age\n",
    "\n",
    "\n",
    "print(Q1_price)\n",
    "print(Q1_odo)\n",
    "print(Q1_age)\n",
    "print()\n",
    "print(Q3_price)\n",
    "print(Q3_odo)\n",
    "print(Q3_age)\n",
    "print()\n",
    "print(IQR_price)\n",
    "print(IQR_odo)\n",
    "print(IQR_age)"
   ]
  },
  {
   "cell_type": "markdown",
   "metadata": {},
   "source": [
    "Los límites inferiores deberían ser aquel que resultase de restar 1.5 veces el IQR al Q1 (`Q1 - 1.5*IQR`), pero podemos ver que si hicieramos esto, obtendríamos valores negativos, por lo tanto aplicaremos unos límites inferiores según los siguientes criterios:"
   ]
  },
  {
   "cell_type": "markdown",
   "metadata": {},
   "source": [
    "1. Vamos a considerar aquellos vehículos con un precio por debajo de 500 dólares como demasiado baratos o que tienen un valor erróneo en el precio, ya que parece raro que se \"vendan\" vehículos por unos pocos dólares o por 0 dólares.\n",
    "\n",
    "2. Comprobaremos si existen vehículos cuyo valor de `vehicle_age` y `odometer` sea 0, ya que significa que esos anuncios podrían ser de un concesionario y en ese caso los vehículos tendrían un precio fijo según el fabricante.\n",
    "\n",
    "3. Para aquellos que no sean nuevos de concesionario, dejaremos el límite inferior para esos valores en 0."
   ]
  },
  {
   "cell_type": "code",
   "execution_count": 42,
   "metadata": {},
   "outputs": [
    {
     "data": {
      "text/plain": [
       "2"
      ]
     },
     "execution_count": 42,
     "metadata": {},
     "output_type": "execute_result"
    }
   ],
   "source": [
    "#Comprobamos si hay vehículos con 0 millas y edad 0\n",
    "is_new = data_raw.query('vehicle_age == 0 & odometer == 0')\n",
    "len(is_new)"
   ]
  },
  {
   "cell_type": "markdown",
   "metadata": {},
   "source": [
    "Viendo que hay 2 vehículos que cumplan estas condiciones, no haremos ningún filtrado para este criterio ya que no van a influir significativamente en nuestro análisis y mantendremos para todos los demás el límite inferior en `odometer` y `vehicle_age` en 0."
   ]
  },
  {
   "cell_type": "markdown",
   "metadata": {},
   "source": [
    "Para el caso de lo límites superiores sí utilizaremos el valor de `Q3 + 1.5*IQR` como límite."
   ]
  },
  {
   "cell_type": "code",
   "execution_count": 43,
   "metadata": {},
   "outputs": [],
   "source": [
    "# Determinar los límites superiores para valores atípicos\n",
    "\n",
    "sup_price = Q3_price + 1.5*IQR_price\n",
    "sup_odo = Q3_odo + 1.5*IQR_odo\n",
    "sup_age = Q3_age + 1.5*IQR_age"
   ]
  },
  {
   "cell_type": "markdown",
   "metadata": {},
   "source": [
    "Con los límites determinados y los valores etiquetados, vamos a guardar los valores normales en un nuevo DataFrame que llamaremos `normal_data`."
   ]
  },
  {
   "cell_type": "code",
   "execution_count": 44,
   "metadata": {
    "scrolled": true
   },
   "outputs": [],
   "source": [
    "# Almacena los datos sin valores atípicos en un DataFrame separado\n",
    "normal_data = data_raw.query('500 < price < @sup_price') #Filtramos valores de precio\n",
    "normal_data = normal_data.query('odometer < @sup_odo') #Filtramos valores de millaje\n",
    "normal_data = normal_data.query('vehicle_age < @sup_age') #Filtramos valores de antigüedad"
   ]
  },
  {
   "cell_type": "markdown",
   "metadata": {},
   "source": [
    "## Estudiar parámetros principales sin valores atípicos"
   ]
  },
  {
   "cell_type": "markdown",
   "metadata": {},
   "source": [
    "En el anterior punto se filtró el DataFrame con los datos en bruto aplicando una serie de criterios para evitar los valores atípicos que distorsionaban el rango de los histogramas. En este punto vamos a imprimir comparaciones sobre los gráficos anteriores para mostrar realizar el estudio sin los valores atípicos.\n"
   ]
  },
  {
   "cell_type": "code",
   "execution_count": 45,
   "metadata": {},
   "outputs": [
    {
     "data": {
      "text/plain": [
       "<AxesSubplot:>"
      ]
     },
     "execution_count": 45,
     "metadata": {},
     "output_type": "execute_result"
    },
    {
     "data": {
      "image/png": "[encoded data removed]",
      "text/plain": [
       "<Figure size 864x432 with 1 Axes>"
      ]
     },
     "metadata": {
      "needs_background": "light"
     },
     "output_type": "display_data"
    }
   ],
   "source": [
    "# Comparación de los datos del precio\n",
    "data_raw['price'].hist(bins=150, figsize=(12,6))\n",
    "normal_data['price'].hist(bins=20, figsize=(12,6))"
   ]
  },
  {
   "cell_type": "code",
   "execution_count": 46,
   "metadata": {},
   "outputs": [
    {
     "data": {
      "text/plain": [
       "<AxesSubplot:>"
      ]
     },
     "execution_count": 46,
     "metadata": {},
     "output_type": "execute_result"
    },
    {
     "data": {
      "image/png": "[encoded data removed]",
      "text/plain": [
       "<Figure size 864x432 with 1 Axes>"
      ]
     },
     "metadata": {
      "needs_background": "light"
     },
     "output_type": "display_data"
    }
   ],
   "source": [
    "# Comparación de los datos de edad del vehículo\n",
    "data_raw['vehicle_age'].hist(bins=120, figsize=(12,6))\n",
    "normal_data['vehicle_age'].hist(bins=23, figsize=(12,6))"
   ]
  },
  {
   "cell_type": "code",
   "execution_count": 47,
   "metadata": {},
   "outputs": [
    {
     "data": {
      "text/plain": [
       "<AxesSubplot:>"
      ]
     },
     "execution_count": 47,
     "metadata": {},
     "output_type": "execute_result"
    },
    {
     "data": {
      "image/png": "[encoded data removed]",
      "text/plain": [
       "<Figure size 864x432 with 1 Axes>"
      ]
     },
     "metadata": {
      "needs_background": "light"
     },
     "output_type": "display_data"
    }
   ],
   "source": [
    "# Comparación de los datos de millaje\n",
    "data_raw['odometer'].hist(bins=100, figsize=(12,6))\n",
    "normal_data['odometer'].hist(bins=30, figsize=(12,6))"
   ]
  },
  {
   "cell_type": "code",
   "execution_count": 48,
   "metadata": {},
   "outputs": [
    {
     "data": {
      "text/plain": [
       "<AxesSubplot:>"
      ]
     },
     "execution_count": 48,
     "metadata": {},
     "output_type": "execute_result"
    },
    {
     "data": {
      "image/png": "[encoded data removed]",
      "text/plain": [
       "<Figure size 864x432 with 1 Axes>"
      ]
     },
     "metadata": {
      "needs_background": "light"
     },
     "output_type": "display_data"
    }
   ],
   "source": [
    "# Comparación de los datos de cilindros del motor\n",
    "data_raw['cylinders'].hist(bins=10, figsize=(12,6))\n",
    "normal_data['cylinders'].hist(bins=10, figsize=(12,6))"
   ]
  },
  {
   "cell_type": "code",
   "execution_count": 49,
   "metadata": {},
   "outputs": [
    {
     "data": {
      "text/plain": [
       "<AxesSubplot:>"
      ]
     },
     "execution_count": 49,
     "metadata": {},
     "output_type": "execute_result"
    },
    {
     "data": {
      "image/png": "[encoded data removed]",
      "text/plain": [
       "<Figure size 864x432 with 1 Axes>"
      ]
     },
     "metadata": {
      "needs_background": "light"
     },
     "output_type": "display_data"
    }
   ],
   "source": [
    "# Comparación de los datos de cilindros del motor\n",
    "data_raw['condition'].hist(bins=5, figsize=(12,6))\n",
    "normal_data['condition'].hist(bins=5, figsize=(12,6))"
   ]
  },
  {
   "cell_type": "markdown",
   "metadata": {},
   "source": [
    "**Conclusiones**\n",
    "\n",
    "De forma general podemos ver como el número de entradas se ha reducido debido a los datos que hemos descartado en nuestro nuevo DataFrame, pero además de eso encontramos:\n",
    "\n",
    "1. En el histograma sobre los datos del precio de los vehículos, la primera barra cercana a cero se ha reducido más de un 50%, lo que quiere decir que tal vez hubiera muchos anuncios en los que el precio introducido haya sido un error.\n",
    "2. Los histogramas que ilustran los datos de edad del vehículo y millaje mantienen la misma forma en gran parte, a pesar de haber quitado algunas entradas, por lo que la filtración de los datos atípicos apenas ha afectado a esta distribución.\n",
    "3. Observando además los histogramas que acabamos de mencionar, tambien vemos que se han reducido casi al 50% la primeraa barra cercana al valor 0, lo que nos puede indicar que tal vez aquellos vehículos con precios inferiores a 500 dólares fueran entradas con valores erróneos en general."
   ]
  },
  {
   "cell_type": "markdown",
   "metadata": {},
   "source": [
    "## Periodo de colocación de los anuncios\n",
    "\n",
    "En este apartado analizaremos el tiempo que los anuncios permanecen en la web. Analizaremos el tiempo medio de duración de un anuncio y, por otro lado, analizaremos también aquellos anuncios que se eliminan muy pronto o aquellos que se mantienen en la web durante demasiado tiempo.\n"
   ]
  },
  {
   "cell_type": "markdown",
   "metadata": {},
   "source": [
    "Empezaremos por mostrar el tiempo medio global que se muestran los anuncios en la web. Haremos el cálculo sobre el conjunto de datos filtrado `normal_data`."
   ]
  },
  {
   "cell_type": "code",
   "execution_count": 50,
   "metadata": {},
   "outputs": [
    {
     "name": "stdout",
     "output_type": "stream",
     "text": [
      "La media de días que se muestra un anuncio es: 39.56\n"
     ]
    }
   ],
   "source": [
    "#Media de días que un anuncio es mostrado\n",
    "\n",
    "days_listed_mean = normal_data['days_listed'].mean()\n",
    "print('La media de días que se muestra un anuncio es:', round(days_listed_mean, 2))"
   ]
  },
  {
   "cell_type": "markdown",
   "metadata": {},
   "source": [
    "Mostraremos también la mediana global."
   ]
  },
  {
   "cell_type": "code",
   "execution_count": 51,
   "metadata": {},
   "outputs": [
    {
     "name": "stdout",
     "output_type": "stream",
     "text": [
      "La mediana de días que se muestran los anuncios es: 33.0\n"
     ]
    }
   ],
   "source": [
    "#Mediana de días que son mostrados los anuncios\n",
    "\n",
    "days_listed_median = normal_data['days_listed'].median()\n",
    "print('La mediana de días que se muestran los anuncios es:', days_listed_median)"
   ]
  },
  {
   "cell_type": "markdown",
   "metadata": {},
   "source": [
    "Veamos esta distribución en un histograma y un diagrama de caja."
   ]
  },
  {
   "cell_type": "code",
   "execution_count": 52,
   "metadata": {},
   "outputs": [
    {
     "data": {
      "text/plain": [
       "array([[<AxesSubplot:title={'center':'days_listed'}>]], dtype=object)"
      ]
     },
     "execution_count": 52,
     "metadata": {},
     "output_type": "execute_result"
    },
    {
     "data": {
      "image/png": "[encoded data removed]",
      "text/plain": [
       "<Figure size 864x432 with 1 Axes>"
      ]
     },
     "metadata": {
      "needs_background": "light"
     },
     "output_type": "display_data"
    }
   ],
   "source": [
    "normal_data.hist('days_listed', bins=50, figsize=(12,6))"
   ]
  },
  {
   "cell_type": "code",
   "execution_count": 53,
   "metadata": {},
   "outputs": [
    {
     "data": {
      "text/plain": [
       "<AxesSubplot:>"
      ]
     },
     "execution_count": 53,
     "metadata": {},
     "output_type": "execute_result"
    },
    {
     "data": {
      "image/png": "[encoded data removed]",
      "text/plain": [
       "<Figure size 288x432 with 1 Axes>"
      ]
     },
     "metadata": {
      "needs_background": "light"
     },
     "output_type": "display_data"
    }
   ],
   "source": [
    "normal_data.boxplot('days_listed', figsize=(4,6))"
   ]
  },
  {
   "cell_type": "markdown",
   "metadata": {},
   "source": [
    "**Conclusiones intermedias**\n",
    "\n",
    "En los gráficos podemos ver que el tiempo más habitual de permanencia de los anuncios está en torno a los 15 y los 25 días. Vemos que a partir de los 100 días los anuncios empiezan a escasear.\n",
    "\n",
    "Por otra parte hay una gran cantidad de anuncios que se mantienen muy pocos días publicados, entre 0 y 15 días."
   ]
  },
  {
   "cell_type": "markdown",
   "metadata": {},
   "source": [
    "## Precio promedio por cada tipo de vehículo"
   ]
  },
  {
   "cell_type": "markdown",
   "metadata": {},
   "source": [
    "Analicemos el precio promedio para cada tipo de vehículo que podemos encontrar en la web. Veremos en dos gráficas la distribución del precio promedio según el tipo de vehículo y ordenados de mayor a menor, seguido de otra gráfica en la que se ordenará también de mayor a menor el número de anuncios para cada tipo de vehículo."
   ]
  },
  {
   "cell_type": "code",
   "execution_count": 54,
   "metadata": {},
   "outputs": [
    {
     "data": {
      "text/plain": [
       "<AxesSubplot:title={'center':'Precio promedio para cada tipo de vehículo'}, xlabel='type'>"
      ]
     },
     "execution_count": 54,
     "metadata": {},
     "output_type": "execute_result"
    },
    {
     "data": {
      "image/png": "[encoded data removed]",
      "text/plain": [
       "<Figure size 1080x648 with 1 Axes>"
      ]
     },
     "metadata": {
      "needs_background": "light"
     },
     "output_type": "display_data"
    }
   ],
   "source": [
    "price_table = normal_data.pivot_table(index='type', values='price', aggfunc=['mean', 'count'])\n",
    "price_table.columns = ['Media de precio', 'Número de anuncios']\n",
    "price_table = price_table.sort_values(by='Media de precio', ascending=False)\n",
    "price_table['Media de precio'].plot(kind='bar', \n",
    "                                    figsize=(15,9), \n",
    "                                    rot=60, \n",
    "                                    grid=True, \n",
    "                                    title='Precio promedio para cada tipo de vehículo'\n",
    "                                   )"
   ]
  },
  {
   "cell_type": "code",
   "execution_count": 55,
   "metadata": {},
   "outputs": [
    {
     "data": {
      "text/plain": [
       "<AxesSubplot:title={'center':'Precio promedio para cada tipo de vehículo'}, xlabel='type'>"
      ]
     },
     "execution_count": 55,
     "metadata": {},
     "output_type": "execute_result"
    },
    {
     "data": {
      "image/png": "[encoded data removed]",
      "text/plain": [
       "<Figure size 1080x648 with 1 Axes>"
      ]
     },
     "metadata": {
      "needs_background": "light"
     },
     "output_type": "display_data"
    }
   ],
   "source": [
    "count_table = price_table.sort_values(by='Número de anuncios', ascending=False)\n",
    "count_table['Número de anuncios'].plot(kind='bar', \n",
    "                 figsize=(15,9), \n",
    "                 rot=60,\n",
    "                 grid=True,\n",
    "                 title='Precio promedio para cada tipo de vehículo'\n",
    "                )"
   ]
  },
  {
   "cell_type": "markdown",
   "metadata": {},
   "source": [
    "**Conclusiones intermedias**\n",
    "\n",
    "Mediante este gráfico observamos que los tipos de vehículos predominantes son los _SUV_ y los _sedan_, seguidos muy de cerca por las _camionetas_."
   ]
  },
  {
   "cell_type": "markdown",
   "metadata": {},
   "source": [
    "## Factores de precio"
   ]
  },
  {
   "cell_type": "markdown",
   "metadata": {},
   "source": [
    "Tras realizar el análisis exploratorio de las distintas variables que podemos encontrar en nuestro conjunto de datos, vamos a analizar qué factores tienen más impacto en el precio sobre aquellos tipos de vehículos más populares. \n",
    "\n",
    "Analizaremos si el precio depende más de la edad del vehículo, el millaje, la condición en la que se encuentra, el tipo de transmisión o el color. Para estas dos últimas filtraremos la tabla para aquellas categorías que tengan más de 50 entradas para tener un rango de muestras suficiente para tomar el análisis como válido.\n"
   ]
  },
  {
   "cell_type": "markdown",
   "metadata": {},
   "source": [
    "Crearemos las variables `suv_data` y `sedan_data` en las que almacenaremos las columnas que queremos analizar. Estos datos serán del conjunto de datos ya filtrado `normal_data`."
   ]
  },
  {
   "cell_type": "code",
   "execution_count": 56,
   "metadata": {},
   "outputs": [],
   "source": [
    "# Creamos las variables para los vehículos SUV y sedán.\n",
    "\n",
    "suv_data = normal_data.query('type == \"SUV\"')[['price', 'vehicle_age', 'miles_per_year',\n",
    "                                               'condition', 'transmission', 'paint_color']]\n",
    "\n",
    "sedan_data = normal_data.query('type == \"sedan\"')[['price', 'vehicle_age', 'miles_per_year',\n",
    "                                               'condition', 'transmission', 'paint_color']]  "
   ]
  },
  {
   "cell_type": "markdown",
   "metadata": {},
   "source": [
    "El análisis lo realizaremos mediante diagramas de dispersión para las variables cuantitativas y mediante diagramas de caja y bigotes para las variables categóricas."
   ]
  },
  {
   "cell_type": "markdown",
   "metadata": {},
   "source": [
    "### Vehículos SUV\n",
    "\n",
    "Empezamos analizando el conjunto de datos de los vhículos SUV. Primero se muestra la correlación de los factores cuantitativos, mediante un cálculo del coeficiente de correlación de Pearson e imprimiendo este coeficiente en forma de matriz de dispersión. Después se mostrarán los diagramas de caja y bigotes para las variables categóricas."
   ]
  },
  {
   "cell_type": "code",
   "execution_count": 57,
   "metadata": {},
   "outputs": [
    {
     "name": "stdout",
     "output_type": "stream",
     "text": [
      "                   price  vehicle_age  miles_per_year  condition\n",
      "price           1.000000    -0.652058        0.280007   0.294340\n",
      "vehicle_age    -0.652058     1.000000       -0.570326  -0.298134\n",
      "miles_per_year  0.280007    -0.570326        1.000000   0.068788\n",
      "condition       0.294340    -0.298134        0.068788   1.000000\n"
     ]
    }
   ],
   "source": [
    "#Coeficiente de correlación de Pearson de los vehículos SUV\n",
    "\n",
    "print(suv_data[['price', 'vehicle_age', 'miles_per_year', 'condition']].corr())"
   ]
  },
  {
   "cell_type": "code",
   "execution_count": 58,
   "metadata": {},
   "outputs": [
    {
     "data": {
      "text/plain": [
       "<AxesSubplot:xlabel='vehicle_age', ylabel='price'>"
      ]
     },
     "execution_count": 58,
     "metadata": {},
     "output_type": "execute_result"
    },
    {
     "data": {
      "image/png": "[encoded data removed]",
      "text/plain": [
       "<Figure size 648x432 with 1 Axes>"
      ]
     },
     "metadata": {
      "needs_background": "light"
     },
     "output_type": "display_data"
    }
   ],
   "source": [
    "#Gráfico de dispersion del precio sobre la edad del vehículo\n",
    "suv_data.plot(kind='scatter', y='price', x='vehicle_age', figsize=(9,6))"
   ]
  },
  {
   "cell_type": "code",
   "execution_count": 59,
   "metadata": {
    "scrolled": false
   },
   "outputs": [
    {
     "data": {
      "text/plain": [
       "<AxesSubplot:xlabel='miles_per_year', ylabel='price'>"
      ]
     },
     "execution_count": 59,
     "metadata": {},
     "output_type": "execute_result"
    },
    {
     "data": {
      "image/png": "[encoded data removed]",
      "text/plain": [
       "<Figure size 648x432 with 1 Axes>"
      ]
     },
     "metadata": {
      "needs_background": "light"
     },
     "output_type": "display_data"
    }
   ],
   "source": [
    "#Gráfico de dispersion del precio sobre el millaje anual\n",
    "suv_data.plot(kind='scatter', y='price', x='miles_per_year', figsize=(9,6))"
   ]
  },
  {
   "cell_type": "code",
   "execution_count": 60,
   "metadata": {},
   "outputs": [
    {
     "data": {
      "text/plain": [
       "<AxesSubplot:xlabel='condition', ylabel='price'>"
      ]
     },
     "execution_count": 60,
     "metadata": {},
     "output_type": "execute_result"
    },
    {
     "data": {
      "image/png": "[encoded data removed]",
      "text/plain": [
       "<Figure size 432x432 with 1 Axes>"
      ]
     },
     "metadata": {
      "needs_background": "light"
     },
     "output_type": "display_data"
    }
   ],
   "source": [
    "#Gráfico de dispersion del precio sobre la condición del vehículo\n",
    "suv_data.plot(kind='scatter', y='price', x='condition', figsize=(6,6))"
   ]
  },
  {
   "cell_type": "markdown",
   "metadata": {},
   "source": [
    "**Conclusiones intermedias**\n",
    "\n",
    "Existe una alta correlación negativa en cuanto a la edad del vehículo. En cuanto al millaje anual no hay apenas correlación, pudiéndose observar que el gráfico nos indica que hay vehículos SUV con 0 millas con el mismo precio que vehículos SUV con 25000 millas anuales.  Por otra parte, la condición del vehículo tiene una correlación más baja, pero si se observa que aquellos que tienen una condición inferior a `bueno` tienen una gran devaluación."
   ]
  },
  {
   "cell_type": "code",
   "execution_count": 61,
   "metadata": {},
   "outputs": [
    {
     "name": "stdout",
     "output_type": "stream",
     "text": [
      "              price\n",
      "transmission       \n",
      "automatic     11040\n",
      "manual          460\n",
      "other            93\n"
     ]
    }
   ],
   "source": [
    "# Comprobamos si existe algún valor dentro de la columna \"transmission\" que tenga menos de 50 entradas\n",
    "\n",
    "print(suv_data.pivot_table(index='transmission', values='price', aggfunc='count'))"
   ]
  },
  {
   "cell_type": "code",
   "execution_count": 62,
   "metadata": {
    "scrolled": false
   },
   "outputs": [
    {
     "data": {
      "text/plain": [
       "<AxesSubplot:title={'center':'price'}, xlabel='transmission'>"
      ]
     },
     "execution_count": 62,
     "metadata": {},
     "output_type": "execute_result"
    },
    {
     "data": {
      "image/png": "[encoded data removed]",
      "text/plain": [
       "<Figure size 864x432 with 1 Axes>"
      ]
     },
     "metadata": {
      "needs_background": "light"
     },
     "output_type": "display_data"
    }
   ],
   "source": [
    "#Diagrama de caja de los valores de la columna 'transmission'\n",
    "\n",
    "suv_data.boxplot(by='transmission', column='price', figsize=(12,6))"
   ]
  },
  {
   "cell_type": "code",
   "execution_count": 63,
   "metadata": {},
   "outputs": [
    {
     "name": "stdout",
     "output_type": "stream",
     "text": [
      "             price\n",
      "paint_color       \n",
      "black         2020\n",
      "blue           987\n",
      "brown          351\n",
      "custom         274\n",
      "green          406\n",
      "grey          1126\n",
      "orange          81\n",
      "purple          39\n",
      "red            858\n",
      "silver        1494\n",
      "unknown       2076\n",
      "white         1837\n",
      "yellow          44\n"
     ]
    }
   ],
   "source": [
    "# Comprobamos si existe algún valor dentro de la columna \"paint_color\" que tenga menos de 50 entradas\n",
    "\n",
    "print(suv_data.pivot_table(index='paint_color', values='price', aggfunc='count'))"
   ]
  },
  {
   "cell_type": "markdown",
   "metadata": {},
   "source": [
    "Debemos sacar fuera de nuestro análisis los vehículos SUV de color `morado` y `amarillo` ya que hay 39 anuncios de SUVs morados y 44 anuncios de SUVs amarillos."
   ]
  },
  {
   "cell_type": "code",
   "execution_count": 64,
   "metadata": {},
   "outputs": [
    {
     "data": {
      "text/plain": [
       "<AxesSubplot:title={'center':'price'}, xlabel='paint_color'>"
      ]
     },
     "execution_count": 64,
     "metadata": {},
     "output_type": "execute_result"
    },
    {
     "data": {
      "image/png": "[encoded data removed]",
      "text/plain": [
       "<Figure size 864x432 with 1 Axes>"
      ]
     },
     "metadata": {
      "needs_background": "light"
     },
     "output_type": "display_data"
    }
   ],
   "source": [
    "#Diagrama de caja de los valores de la columna 'paint_color'\n",
    "suv_drop_colors = ['purple', 'yellow']\n",
    "suv_data.query('paint_color != @suv_drop_colors').boxplot(by='paint_color', column='price', figsize=(12,6))"
   ]
  },
  {
   "cell_type": "markdown",
   "metadata": {},
   "source": [
    "**Conclusiones intermedias**\n",
    "\n",
    "EL tipo de transmisión no tiene correlación con el precio del vehículo y por lo general el color del vehículo tampoco, aunque se observa que los vehículos SUV de color naranja tienen un precio medio más alto que el resto.\n",
    "\n"
   ]
  },
  {
   "cell_type": "markdown",
   "metadata": {},
   "source": [
    "### Vehículos sedán\n",
    "\n",
    "Realizamos el mísmo análisis ahora para los vehículos de tipo sedán."
   ]
  },
  {
   "cell_type": "code",
   "execution_count": 65,
   "metadata": {},
   "outputs": [
    {
     "name": "stdout",
     "output_type": "stream",
     "text": [
      "                   price  vehicle_age  miles_per_year  condition\n",
      "price           1.000000    -0.683638        0.295630   0.326389\n",
      "vehicle_age    -0.683638     1.000000       -0.540645  -0.287641\n",
      "miles_per_year  0.295630    -0.540645        1.000000   0.066392\n",
      "condition       0.326389    -0.287641        0.066392   1.000000\n"
     ]
    }
   ],
   "source": [
    "#Coeficiente de correlación de Pearson de los vehículos sedán\n",
    "\n",
    "print(sedan_data[['price', 'vehicle_age', 'miles_per_year', 'condition']].corr())"
   ]
  },
  {
   "cell_type": "code",
   "execution_count": 66,
   "metadata": {},
   "outputs": [
    {
     "data": {
      "text/plain": [
       "<AxesSubplot:xlabel='vehicle_age', ylabel='price'>"
      ]
     },
     "execution_count": 66,
     "metadata": {},
     "output_type": "execute_result"
    },
    {
     "data": {
      "image/png": "[encoded data removed]",
      "text/plain": [
       "<Figure size 648x432 with 1 Axes>"
      ]
     },
     "metadata": {
      "needs_background": "light"
     },
     "output_type": "display_data"
    }
   ],
   "source": [
    "#Gráfico de dispersion del precio sobre la edad del vehículo\n",
    "sedan_data.plot(kind='scatter', y='price', x='vehicle_age', figsize=(9,6))"
   ]
  },
  {
   "cell_type": "code",
   "execution_count": 67,
   "metadata": {},
   "outputs": [
    {
     "data": {
      "text/plain": [
       "<AxesSubplot:xlabel='miles_per_year', ylabel='price'>"
      ]
     },
     "execution_count": 67,
     "metadata": {},
     "output_type": "execute_result"
    },
    {
     "data": {
      "image/png": "[encoded data removed]",
      "text/plain": [
       "<Figure size 648x432 with 1 Axes>"
      ]
     },
     "metadata": {
      "needs_background": "light"
     },
     "output_type": "display_data"
    }
   ],
   "source": [
    "#Gráfico de dispersion del precio sobre la edad del vehículo\n",
    "sedan_data.plot(kind='scatter', y='price', x='miles_per_year', figsize=(9,6))"
   ]
  },
  {
   "cell_type": "code",
   "execution_count": 68,
   "metadata": {},
   "outputs": [
    {
     "data": {
      "text/plain": [
       "<AxesSubplot:xlabel='condition', ylabel='price'>"
      ]
     },
     "execution_count": 68,
     "metadata": {},
     "output_type": "execute_result"
    },
    {
     "data": {
      "image/png": "[encoded data removed]",
      "text/plain": [
       "<Figure size 432x432 with 1 Axes>"
      ]
     },
     "metadata": {
      "needs_background": "light"
     },
     "output_type": "display_data"
    }
   ],
   "source": [
    "#Gráfico de dispersion del precio sobre la edad del vehículo\n",
    "sedan_data.plot(kind='scatter', y='price', x='condition', figsize=(6,6))"
   ]
  },
  {
   "cell_type": "markdown",
   "metadata": {},
   "source": [
    "**Conclusiones intermedias**\n",
    "\n",
    "Encontramos un gráfico similar al de los vehículos SUV, en dónde tenemos una alta correlación negativa en la edad del vehículo. En cuanto al millaje anual, vemos que el gráfico también comparte similitud con el de los vehículos SUV, con la diferencia que de media los sedán tienen precios menores que los SUV.\n",
    "La condición del vehículo tiene una correlación un poco mayor pero siguie siendo bajo."
   ]
  },
  {
   "cell_type": "code",
   "execution_count": 69,
   "metadata": {},
   "outputs": [
    {
     "name": "stdout",
     "output_type": "stream",
     "text": [
      "              price\n",
      "transmission       \n",
      "automatic     11075\n",
      "manual          562\n",
      "other            74\n"
     ]
    }
   ],
   "source": [
    "# Comprobamos si existe algún valor dentro de la columna \"transmission\" que tenga menos de 50 entradas\n",
    "\n",
    "print(sedan_data.pivot_table(index='transmission', values='price', aggfunc='count'))"
   ]
  },
  {
   "cell_type": "code",
   "execution_count": 70,
   "metadata": {},
   "outputs": [
    {
     "data": {
      "text/plain": [
       "<AxesSubplot:title={'center':'price'}, xlabel='transmission'>"
      ]
     },
     "execution_count": 70,
     "metadata": {},
     "output_type": "execute_result"
    },
    {
     "data": {
      "image/png": "[encoded data removed]",
      "text/plain": [
       "<Figure size 864x432 with 1 Axes>"
      ]
     },
     "metadata": {
      "needs_background": "light"
     },
     "output_type": "display_data"
    }
   ],
   "source": [
    "#Diagrama de caja de los valores de la columna 'transmission'\n",
    "\n",
    "sedan_data.boxplot(by='transmission', column='price', figsize=(12,6))"
   ]
  },
  {
   "cell_type": "code",
   "execution_count": 71,
   "metadata": {},
   "outputs": [
    {
     "name": "stdout",
     "output_type": "stream",
     "text": [
      "             price\n",
      "paint_color       \n",
      "black         1714\n",
      "blue          1198\n",
      "brown          254\n",
      "custom         266\n",
      "green          201\n",
      "grey          1596\n",
      "orange           9\n",
      "purple          23\n",
      "red            899\n",
      "silver        1994\n",
      "unknown       2101\n",
      "white         1437\n",
      "yellow          19\n"
     ]
    }
   ],
   "source": [
    "# Comprobamos si existe algún valor dentro de la columna \"paint_color\" que tenga menos de 50 entradas\n",
    "\n",
    "print(sedan_data.pivot_table(index='paint_color', values='price', aggfunc='count'))"
   ]
  },
  {
   "cell_type": "markdown",
   "metadata": {},
   "source": [
    "Para este caso debemos filtrar la tabla para quitar del análisis los vehículos sedán de color `naranja`, `morado` y `amarillo`."
   ]
  },
  {
   "cell_type": "code",
   "execution_count": 72,
   "metadata": {},
   "outputs": [
    {
     "data": {
      "text/plain": [
       "<AxesSubplot:title={'center':'price'}, xlabel='paint_color'>"
      ]
     },
     "execution_count": 72,
     "metadata": {},
     "output_type": "execute_result"
    },
    {
     "data": {
      "image/png": "[encoded data removed]",
      "text/plain": [
       "<Figure size 864x432 with 1 Axes>"
      ]
     },
     "metadata": {
      "needs_background": "light"
     },
     "output_type": "display_data"
    }
   ],
   "source": [
    "#Diagrama de caja de los valores de la columna 'paint_color'\n",
    "sedan_drop_colors = ['purple', 'yellow', 'orange']\n",
    "sedan_data.query('paint_color != @sedan_drop_colors').boxplot(by='paint_color', column='price', figsize=(12,6))"
   ]
  },
  {
   "cell_type": "markdown",
   "metadata": {},
   "source": [
    "**Conclusiones intermedias**\n",
    "\n",
    "Para este caso también encontramos que tanto el tipo de transmisión como el color de la pintura no influyen en el precio de los vehículos."
   ]
  },
  {
   "cell_type": "markdown",
   "metadata": {},
   "source": [
    "**Conclusiones**\n",
    "\n",
    "Los factores que más influyen en el precio son la edad del vehículo y el millaje, en dónde los vehículos más nuevos y con menos millas tienen precios más elevados que los que tienen más años o más millas. Además tambien condiciona en parte el estado del vehículo."
   ]
  },
  {
   "cell_type": "markdown",
   "metadata": {},
   "source": [
    "## Conclusión general\n",
    "\n",
    "En general hemos podido concluir que los factores más influyentes en el precio son la edad del vehículo y el millaje, junto con un pequeño factor añadido como es la condición. De acuerdo a las hipótesis que formulamos al principio, podemos decir que:\n",
    "\n",
    " 1. La hipótesis sobre la edad del vehículo es acertada. Cuánto más nuevo, mayor es el precio.\n",
    " 2. La hipótesis sobre el millaje no se cumple. Hay vehículos con mayor promedio de millas anuales con precios similares a aquellos con menos.\n",
    " 3. El color de la pintura no influye realmente en el precio, por lo que descartamos esa hipótesis.\n",
    " 4. La condición del vehículo es determinante en el precio si está peor que bien.\n",
    " 5. El tipo de transmisión no influye en el precio.\n",
    " \n",
    "Entre otras conclusiones, destacamos que el tiempo medio que dura un anuncio en la web es de 2 a 3 semanas, lo cual es un tiempo aceptable. En cambio, hay bastantes anuncios que se quedan publicados durante un tiempo excesívamente prolongado, tal vez sería recomendable para la web añadir algún método para promocionar esos anuncios."
   ]
  }
 ],
 "metadata": {
  "ExecuteTimeLog": [
   {
    "duration": 828,
    "start_time": "2021-11-16T09:21:11.304Z"
   },
   {
    "duration": 893,
    "start_time": "2021-11-16T09:21:17.728Z"
   },
   {
    "duration": 1150,
    "start_time": "2021-11-16T09:21:29.568Z"
   },
   {
    "duration": 3,
    "start_time": "2021-11-16T09:24:14.495Z"
   },
   {
    "duration": 120,
    "start_time": "2021-11-16T09:24:46.630Z"
   },
   {
    "duration": 3,
    "start_time": "2021-11-16T09:28:27.882Z"
   },
   {
    "duration": 4,
    "start_time": "2021-11-16T09:29:54.281Z"
   },
   {
    "duration": 3,
    "start_time": "2021-11-16T09:30:45.936Z"
   },
   {
    "duration": 4,
    "start_time": "2021-11-16T09:31:06.300Z"
   },
   {
    "duration": 113,
    "start_time": "2021-11-16T09:31:37.208Z"
   },
   {
    "duration": 143,
    "start_time": "2021-11-16T09:31:48.656Z"
   },
   {
    "duration": 98,
    "start_time": "2021-11-16T09:31:55.678Z"
   },
   {
    "duration": 3,
    "start_time": "2021-11-16T09:32:08.535Z"
   },
   {
    "duration": 111,
    "start_time": "2021-11-16T09:32:10.120Z"
   },
   {
    "duration": 3,
    "start_time": "2021-11-16T09:32:15.732Z"
   },
   {
    "duration": 4,
    "start_time": "2021-11-16T09:32:29.423Z"
   },
   {
    "duration": 3,
    "start_time": "2021-11-16T10:03:03.074Z"
   },
   {
    "duration": 3,
    "start_time": "2021-11-16T10:10:01.288Z"
   },
   {
    "duration": 3,
    "start_time": "2021-11-16T10:10:46.923Z"
   },
   {
    "duration": 121,
    "start_time": "2021-11-16T10:37:46.494Z"
   },
   {
    "duration": 125,
    "start_time": "2021-11-16T10:38:20.632Z"
   },
   {
    "duration": 112,
    "start_time": "2021-11-16T10:46:53.001Z"
   },
   {
    "duration": 110,
    "start_time": "2021-11-16T10:48:25.775Z"
   },
   {
    "duration": 3,
    "start_time": "2021-11-16T10:50:18.720Z"
   },
   {
    "duration": 4,
    "start_time": "2021-11-16T10:50:37.649Z"
   },
   {
    "duration": 2,
    "start_time": "2021-11-16T10:50:51.884Z"
   },
   {
    "duration": 3,
    "start_time": "2021-11-16T10:51:56.237Z"
   },
   {
    "duration": 101,
    "start_time": "2021-11-16T10:53:13.791Z"
   },
   {
    "duration": 3,
    "start_time": "2021-11-16T10:55:59.186Z"
   },
   {
    "duration": 3,
    "start_time": "2021-11-16T10:56:10.751Z"
   },
   {
    "duration": 3,
    "start_time": "2021-11-16T10:56:49.038Z"
   },
   {
    "duration": 3,
    "start_time": "2021-11-16T10:56:49.174Z"
   },
   {
    "duration": 4,
    "start_time": "2021-11-16T10:56:49.414Z"
   },
   {
    "duration": 3,
    "start_time": "2021-11-16T10:56:49.680Z"
   },
   {
    "duration": 3,
    "start_time": "2021-11-16T10:56:50.370Z"
   },
   {
    "duration": 114,
    "start_time": "2021-11-16T10:59:34.518Z"
   },
   {
    "duration": 3,
    "start_time": "2021-11-16T11:01:41.201Z"
   },
   {
    "duration": 116,
    "start_time": "2021-11-16T11:01:48.754Z"
   },
   {
    "duration": 3,
    "start_time": "2021-11-16T11:02:16.685Z"
   },
   {
    "duration": 3,
    "start_time": "2021-11-16T11:02:19.479Z"
   },
   {
    "duration": 3,
    "start_time": "2021-11-16T11:02:47.067Z"
   },
   {
    "duration": 3,
    "start_time": "2021-11-16T11:02:49.353Z"
   },
   {
    "duration": 3,
    "start_time": "2021-11-16T11:03:07.835Z"
   },
   {
    "duration": 3,
    "start_time": "2021-11-16T11:03:07.953Z"
   },
   {
    "duration": 112,
    "start_time": "2021-11-16T11:07:52.072Z"
   },
   {
    "duration": 187,
    "start_time": "2021-11-16T11:09:23.468Z"
   },
   {
    "duration": 4,
    "start_time": "2021-11-16T11:10:01.455Z"
   },
   {
    "duration": 3,
    "start_time": "2021-11-16T11:10:05.069Z"
   },
   {
    "duration": 4,
    "start_time": "2021-11-16T11:10:13.376Z"
   },
   {
    "duration": 3,
    "start_time": "2021-11-16T11:10:14.434Z"
   },
   {
    "duration": 3,
    "start_time": "2021-11-16T11:10:22.853Z"
   },
   {
    "duration": 4,
    "start_time": "2021-11-16T11:27:29.279Z"
   },
   {
    "duration": 4,
    "start_time": "2021-11-16T11:29:08.919Z"
   },
   {
    "duration": 118,
    "start_time": "2021-11-16T11:29:46.703Z"
   },
   {
    "duration": 437,
    "start_time": "2021-11-16T11:36:02.181Z"
   },
   {
    "duration": 157,
    "start_time": "2021-11-16T11:36:14.388Z"
   },
   {
    "duration": 207,
    "start_time": "2021-11-16T11:47:15.898Z"
   },
   {
    "duration": 3,
    "start_time": "2021-11-16T11:53:52.092Z"
   },
   {
    "duration": 3,
    "start_time": "2021-11-16T11:53:52.236Z"
   },
   {
    "duration": 3,
    "start_time": "2021-11-16T11:59:12.005Z"
   },
   {
    "duration": 112,
    "start_time": "2021-11-16T12:00:33.446Z"
   },
   {
    "duration": 3,
    "start_time": "2021-11-16T12:02:14.453Z"
   },
   {
    "duration": 3,
    "start_time": "2021-11-16T12:02:39.512Z"
   },
   {
    "duration": 106,
    "start_time": "2021-11-16T12:03:03.460Z"
   }
  ],
  "kernelspec": {
   "display_name": "Python 3 (ipykernel)",
   "language": "python",
   "name": "python3"
  },
  "language_info": {
   "codemirror_mode": {
    "name": "ipython",
    "version": 3
   },
   "file_extension": ".py",
   "mimetype": "text/x-python",
   "name": "python",
   "nbconvert_exporter": "python",
   "pygments_lexer": "ipython3",
   "version": "3.9.12"
  },
  "toc": {
   "base_numbering": 1,
   "nav_menu": {},
   "number_sections": false,
   "sideBar": true,
   "skip_h1_title": false,
   "title_cell": "Table of Contents",
   "title_sidebar": "Contents",
   "toc_cell": true,
   "toc_position": {
    "height": "calc(100% - 180px)",
    "left": "10px",
    "top": "150px",
    "width": "328px"
   },
   "toc_section_display": true,
   "toc_window_display": true
  }
 },
 "nbformat": 4,
 "nbformat_minor": 2
}
